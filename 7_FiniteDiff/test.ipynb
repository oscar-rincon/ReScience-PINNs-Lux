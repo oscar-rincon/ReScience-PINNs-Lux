{
 "cells": [
  {
   "cell_type": "code",
   "execution_count": 4,
   "metadata": {},
   "outputs": [],
   "source": [
    "using FiniteDifferences"
   ]
  },
  {
   "cell_type": "code",
   "execution_count": 47,
   "metadata": {},
   "outputs": [
    {
     "data": {
      "text/plain": [
       "2-element Vector{Float64}:\n",
       " 1.0\n",
       " 2.0"
      ]
     },
     "metadata": {},
     "output_type": "display_data"
    }
   ],
   "source": [
    "a =Array([1.0,2.0])"
   ]
  },
  {
   "cell_type": "code",
   "execution_count": 53,
   "metadata": {},
   "outputs": [
    {
     "ename": "ErrorException",
     "evalue": "cannot define function ∂u_∂x; it already has a value",
     "output_type": "error",
     "traceback": [
      "cannot define function ∂u_∂x; it already has a value\n",
      "\n",
      "Stacktrace:\n",
      " [1] top-level scope\n",
      "   @ none:0"
     ]
    }
   ],
   "source": [
    "# Definir la función seno\n",
    "f(x) = sin.(x)\n",
    "\n",
    "# Definir la línea de puntos x_line\n",
    "x_line = collect(range(0.0, stop=1.0, length=10))\n",
    "\n",
    "# Crear un operador de diferencias finitas\n",
    "grad_operator = FiniteDifferences.central_fdm(5, 1)  # Orden 5, primera derivada\n",
    "hess_operator = FiniteDifferences.central_fdm(5, 2)  # Orden 5, segunda derivada\n",
    "\n",
    "# Calcular la primera derivada numérica usando FiniteDifferences\n",
    "∂u_∂x(x) = grad(grad_operator, f, x)\n"
   ]
  },
  {
   "cell_type": "code",
   "execution_count": 29,
   "metadata": {},
   "outputs": [
    {
     "data": {
      "text/plain": [
       "grad (generic function with 1 method)"
      ]
     },
     "metadata": {},
     "output_type": "display_data"
    }
   ],
   "source": [
    "grad"
   ]
  },
  {
   "cell_type": "code",
   "execution_count": 25,
   "metadata": {},
   "outputs": [
    {
     "ename": "DimensionMismatch",
     "evalue": "DimensionMismatch: second dimension of A, 3, does not match length of x, 1",
     "output_type": "error",
     "traceback": [
      "DimensionMismatch: second dimension of A, 3, does not match length of x, 1\n",
      "\n",
      "Stacktrace:\n",
      "  [1] gemv!\n",
      "    @ ~/.julia/juliaup/julia-1.11.2+0.x64.linux.gnu/share/julia/stdlib/v1.11/LinearAlgebra/src/matmul.jl:438 [inlined]\n",
      "  [2] generic_matvecmul!\n",
      "    @ ~/.julia/juliaup/julia-1.11.2+0.x64.linux.gnu/share/julia/stdlib/v1.11/LinearAlgebra/src/matmul.jl:79 [inlined]\n",
      "  [3] _mul!\n",
      "    @ ~/.julia/juliaup/julia-1.11.2+0.x64.linux.gnu/share/julia/stdlib/v1.11/LinearAlgebra/src/matmul.jl:73 [inlined]\n",
      "  [4] mul!\n",
      "    @ ~/.julia/juliaup/julia-1.11.2+0.x64.linux.gnu/share/julia/stdlib/v1.11/LinearAlgebra/src/matmul.jl:70 [inlined]\n",
      "  [5] mul!\n",
      "    @ ~/.julia/juliaup/julia-1.11.2+0.x64.linux.gnu/share/julia/stdlib/v1.11/LinearAlgebra/src/matmul.jl:253 [inlined]\n",
      "  [6] *(A::LinearAlgebra.Transpose{Float64, Matrix{Float64}}, x::Vector{Int64})\n",
      "    @ LinearAlgebra ~/.julia/juliaup/julia-1.11.2+0.x64.linux.gnu/share/julia/stdlib/v1.11/LinearAlgebra/src/matmul.jl:56\n",
      "  [7] _j′vp(fdm::FiniteDifferences.AdaptedFiniteDifferenceMethod{5, 1, FiniteDifferences.UnadaptedFiniteDifferenceMethod{7, 5}}, f::Function, ȳ::Vector{Int64}, x::Vector{Float64})\n",
      "    @ FiniteDifferences ~/.julia/packages/FiniteDifferences/IPGFN/src/grad.jl:84\n",
      "  [8] j′vp\n",
      "    @ ~/.julia/packages/FiniteDifferences/IPGFN/src/grad.jl:77 [inlined]\n",
      "  [9] grad(fdm::FiniteDifferences.AdaptedFiniteDifferenceMethod{5, 1, FiniteDifferences.UnadaptedFiniteDifferenceMethod{7, 5}}, f::Function, xs::Vector{Float64})\n",
      "    @ FiniteDifferences ~/.julia/packages/FiniteDifferences/IPGFN/src/grad.jl:94\n",
      " [10] top-level scope\n",
      "    @ ~/ReScience-PINNs-Lux/7_FiniteDiff/jl_notebook_cell_df34fa98e69747e1a8f8a730347b8e2f_W0sdnNjb2RlLXJlbW90ZQ==.jl:3"
     ]
    }
   ],
   "source": [
    " \n",
    " \n",
    "grad(central_fdm(5, 1), f, x) "
   ]
  },
  {
   "cell_type": "code",
   "execution_count": null,
   "metadata": {},
   "outputs": [],
   "source": []
  }
 ],
 "metadata": {
  "kernelspec": {
   "display_name": "Julia 1.11.2",
   "language": "julia",
   "name": "julia-1.11"
  },
  "language_info": {
   "file_extension": ".jl",
   "mimetype": "application/julia",
   "name": "julia",
   "version": "1.11.2"
  }
 },
 "nbformat": 4,
 "nbformat_minor": 2
}
