{
 "cells": [
  {
   "cell_type": "markdown",
   "metadata": {},
   "source": [
    "# Solucion de la ecuación de Poisson usando PINNs"
   ]
  },
  {
   "cell_type": "markdown",
   "metadata": {},
   "source": [
    "## Descripción del problema"
   ]
  },
  {
   "cell_type": "markdown",
   "metadata": {},
   "source": [
    "Queremos resolver la siguiente ecuación\n",
    "\n",
    "$$ \\frac{d^2 u(x)}{d^2 x}  = f(x)\\quad \\forall x \\in (0, \\pi)$$\n",
    "\n",
    "con $u(0) = u(\\pi) = 0$.\n"
   ]
  },
  {
   "cell_type": "markdown",
   "metadata": {},
   "source": [
    "## Aproximación de la función"
   ]
  },
  {
   "cell_type": "markdown",
   "metadata": {},
   "source": [
    "En este caso tenemos una aproximación\n",
    "\n",
    "$$u_\\theta(x) \\approx \\operatorname{NN}(x; \\theta)\\, ,$$\n",
    "\n",
    "dondee $\\operatorname{NN}$ es una red neuronal con parámetros\n",
    "entrenables $\\theta$.\n",
    "\n",
    "El residual para este problema estaría dado por\n",
    "\n",
    "$$R(x) = \\frac{d^2 u_\\theta(x)}{d^2 x}  - f(x) \\, .$$\n",
    "\n",
    "Por el caracter no linealidad respecto a los parámetros\n",
    "$\\theta$ de las redes neuronales evaluar el residual\n",
    "en una serie de puntos $x_i$  y forzarlo a ser cero\n",
    "en estos puntos, llevaría a un sistema\n",
    "no lineal de ecuaciones\n",
    "\n",
    "$$R(x_i) = 0 \\quad \\forall x_i\\, .$$"
   ]
  },
  {
   "cell_type": "markdown",
   "metadata": {},
   "source": [
    "## Función de pérdida"
   ]
  },
  {
   "cell_type": "markdown",
   "metadata": {},
   "source": [
    "Una alternativa a resolver el sistema de ecuaciones anteriormente\n",
    "planteado es minimizar\n",
    "\n",
    "$$\\min_\\theta \\frac{1}{N}\\sum_{i}^N |R(x_i)|^2 \\, .$$\n",
    "\n",
    "Que sería exactamente 0 si cada uno de los residuales es igual a 0.\n",
    "\n",
    "A este problema le harían falta las condiciones de frontera. Para\n",
    "esto se propone una función objetivo que las incluya\n",
    "\n",
    "$$\\min_\\theta \\frac{1}{N}\\sum_{i}^N R(x_i)^2  + \\lambda_1 u_\\theta(0)^2\n",
    "+ \\lambda_2 u_\\theta(\\pi)^2\\, .$$"
   ]
  },
  {
   "cell_type": "markdown",
   "metadata": {},
   "source": [
    "## Ejemplo computacional"
   ]
  },
  {
   "cell_type": "code",
   "execution_count": 7,
   "metadata": {},
   "outputs": [],
   "source": [
    "# Import required packages\n",
    "using Lux                  # Neural network definition and training\n",
    "using LuxCUDA\n",
    "using TaylorDiff           # Automatic differentiation\n",
    "using Optimization         # Optimization problem solving\n",
    "using Optimisers           # Optimizers such as Adam\n",
    "using Random               # Random number generation\n",
    "using Plots                # Plotting utilities\n",
    "using Zygote               # Automatic differentiation\n",
    "using ComponentArrays      # Array utilities for handling model parameters\n",
    "using Printf               # Advanced formatted printing\n",
    "using LinearAlgebra        # Linear algebra operations\n",
    "using Statistics           # Statistical operations\n",
    "using OptimizationOptimisers  # Optimization extensions for Optimisers\n",
    "using OptimizationOptimJL     # Optimization extensions for LBFGS"
   ]
  },
  {
   "cell_type": "code",
   "execution_count": 8,
   "metadata": {},
   "outputs": [
    {
     "data": {
      "text/plain": [
       "(::CUDADevice{Nothing}) (generic function with 1 method)"
      ]
     },
     "metadata": {},
     "output_type": "display_data"
    }
   ],
   "source": [
    "# Initial program setup\n",
    "# Seeding for reproducibility\n",
    "rng = Random.default_rng()\n",
    "Random.seed!(rng, 0)\n",
    "\n",
    "# Device configuration (CPU/GPU)\n",
    "const DEVICE_CPU = cpu_device()  #  device cpu_device() gpu_device() \n",
    "const DEVICE_GPU = gpu_device()  #  device cpu_device() gpu_device()"
   ]
  },
  {
   "cell_type": "code",
   "execution_count": 9,
   "metadata": {},
   "outputs": [
    {
     "data": {
      "text/plain": [
       "1×100 CuArray{Float64, 2, CUDA.DeviceMemory}:\n",
       " 0.0  0.0317333  0.0634665  0.0951998  …  3.04639  3.07813  3.10986  3.14159"
      ]
     },
     "metadata": {},
     "output_type": "display_data"
    }
   ],
   "source": [
    "# Data preparation\n",
    "# Input range and target output\n",
    "INPUT_RANGE = range(0, Float64.(pi), length=100)\n",
    "input_data = Float64.(reshape(collect(INPUT_RANGE), 1, :) |> DEVICE_GPU)   # Input data\n",
    "f_rhs(x) = reshape(Float64.(-4*sin.(2*x)), 1, :)  # f_rhs\n",
    "data = input_data    # Move data to the selected device "
   ]
  },
  {
   "cell_type": "code",
   "execution_count": 10,
   "metadata": {},
   "outputs": [
    {
     "data": {
      "text/plain": [
       "StatefulLuxLayer{true}(\n",
       "    Chain(\n",
       "        layer_1 = Dense(1 => 10, tanh),  \u001b[90m# 20 parameters\u001b[39m\n",
       "        layer_2 = Dense(10 => 10, tanh),  \u001b[90m# 110 parameters\u001b[39m\n",
       "        layer_3 = Dense(10 => 10, tanh),  \u001b[90m# 110 parameters\u001b[39m\n",
       "        layer_4 = Dense(10 => 1),       \u001b[90m# 11 parameters\u001b[39m\n",
       "    ),\n",
       ") \u001b[90m        # Total: \u001b[39m251 parameters,\n",
       "\u001b[90m          #        plus \u001b[39m0 states."
      ]
     },
     "metadata": {},
     "output_type": "display_data"
    }
   ],
   "source": [
    "# Neural network definition\n",
    "# Architecture: Network with multiple dense layers and tanh activation ; init_weight=Lux.glorot_uniform, init_bias=Lux.zeros64\n",
    "const HIDDEN_UNITS = 10\n",
    "model = Chain(\n",
    "    Dense(1 => HIDDEN_UNITS, tanh; init_weight=Lux.glorot_uniform,init_bias=Lux.zeros32),\n",
    "    Dense(HIDDEN_UNITS => HIDDEN_UNITS, tanh; init_weight=Lux.glorot_uniform,init_bias=Lux.zeros32),\n",
    "    Dense(HIDDEN_UNITS => HIDDEN_UNITS, tanh;  init_weight=Lux.glorot_uniform,init_bias=Lux.zeros32),\n",
    "    Dense(HIDDEN_UNITS => 1; init_weight=Lux.glorot_uniform, init_bias=Lux.zeros32)\n",
    ")\n",
    "\n",
    "# Model initialization\n",
    "params, states = Lux.setup(rng, model)  # Initial parameters and states\n",
    "params = Float64.(ComponentArray(params) |> DEVICE_GPU)  # Move parameters to the device\n",
    "states = states |> DEVICE_GPU  # Move states to the device\n",
    "smodel = StatefulLuxLayer{true}(model, params, states)  # Stateful model layer"
   ]
  },
  {
   "cell_type": "code",
   "execution_count": 11,
   "metadata": {},
   "outputs": [
    {
     "data": {
      "text/plain": [
       "callback (generic function with 1 method)"
      ]
     },
     "metadata": {},
     "output_type": "display_data"
    }
   ],
   "source": [
    "# Definir el valor de ε1 para el metodo de diferencias finitas\n",
    "εmachine = eps(Float64)\n",
    "ε2 = εmachine^(1/4)\n",
    "\n",
    "function loss_adjoint(params, (input_data))\n",
    "    # Predicción de la red neuronal\n",
    "    f(input_data) = smodel(input_data, params)\n",
    "\n",
    "    # Calcular la derivada numérica usando diferencias finitas centradas\n",
    "    ddu(input_data)=Float64.((f(input_data .+ ε2) .- 2f0 .* f(input_data) .+ f(input_data .- ε2)) / (ε2^2))\n",
    "\n",
    "    # Ressiduo de la ecuación diferencial\n",
    "    res_eq = ddu(input_data) - f_rhs(input_data) \n",
    "    loss_eq = mean((res_eq).^2)  \n",
    "    loss_bc = Array(((f([0] |> DEVICE_GPU) .- (0)).^2) + ((f([Float64.(pi)] |> DEVICE_GPU) .- (0)).^2))[1] \n",
    "    total_loss = loss_eq + loss_bc\n",
    "    return total_loss\n",
    "end\n",
    "\n",
    "# Callback function\n",
    "# Monitors training progress\n",
    "function callback(state, l)\n",
    "    state.iter % 100 == 1 && @printf \"Iteration: %5d, Loss: %.12e\\n\" state.iter l\n",
    "    return l < 1e-8  # Stop if loss is sufficiently small\n",
    "end"
   ]
  },
  {
   "cell_type": "code",
   "execution_count": 12,
   "metadata": {},
   "outputs": [
    {
     "data": {
      "text/plain": [
       "501"
      ]
     },
     "metadata": {},
     "output_type": "display_data"
    }
   ],
   "source": [
    "data = (input_data)  # Data tuple\n",
    "\n",
    "# Definir el problema de optimización\n",
    "opt_func = OptimizationFunction(loss_adjoint, Optimization.AutoZygote())\n",
    "opt_prob = OptimizationProblem(opt_func, params, data)\n",
    "iters = 5_01  # Número máximo de iteraciones"
   ]
  },
  {
   "cell_type": "code",
   "execution_count": 13,
   "metadata": {},
   "outputs": [
    {
     "name": "stderr",
     "output_type": "stream",
     "text": [
      "┌ Warning: Mixed Precision Inputs received for `weight`: CuArray{Float64, 2, CUDA.DeviceMemory} and `x`: CuArray{Int64, 2, CUDA.DeviceMemory}. Promoting to Float64.\n",
      "└ @ LuxLibCUDAExt /home/orincon/.julia/packages/LuxLib/ru5RQ/ext/LuxLibCUDAExt/cublaslt.jl:26\n"
     ]
    },
    {
     "name": "stdout",
     "output_type": "stream",
     "text": [
      "Iteration:     1, Loss: 8.085810961203e+00\n",
      "Iteration:   101, Loss: 4.390117546484e+00\n",
      "Iteration:   201, Loss: 1.944216641714e+00\n",
      "Iteration:   301, Loss: 1.549366948674e+00\n",
      "Iteration:   401, Loss: 8.773610595018e-01\n",
      "Iteration:   501, Loss: 1.044709923808e-01\n"
     ]
    },
    {
     "data": {
      "text/plain": [
       "retcode: Default\n",
       "u: \u001b[0mComponentVector{Float64, CuArray{Float64, 1, CUDA.DeviceMemory}, Tuple{Axis{(layer_1 = ViewAxis(1:20, Axis(weight = ViewAxis(1:10, ShapedAxis((10, 1))), bias = 11:20)), layer_2 = ViewAxis(21:130, Axis(weight = ViewAxis(1:100, ShapedAxis((10, 10))), bias = 101:110)), layer_3 = ViewAxis(131:240, Axis(weight = ViewAxis(1:100, ShapedAxis((10, 10))), bias = 101:110)), layer_4 = ViewAxis(241:251, Axis(weight = ViewAxis(1:10, ShapedAxis((1, 10))), bias = 11:11)))}}}(layer_1 = (weight = [-0.5722165597264783; -0.7695775292807021; … ; -0.3913540319446252; -0.2749011299427649;;], bias = [0.22796291468549107, -0.09473863624994484, -0.3290377434588955, -0.23639681955391806, 0.4982180070799341, -0.20630334440000556, 0.04131221581310564, -0.39145832129076574, 0.11444794795487276, 0.4639168839557045]), layer_2 = (weight = [-0.13463947408964644 0.6534075040121574 … 0.3879361816137786 0.09323900690999878; 0.21978672222139217 0.015316817628445193 … 0.29723392152981665 0.3977045969652325; … ; 0.22512938670894914 0.13284677230278336 … 0.3914721578073196 0.06469484824226494; -0.31558040442452767 -0.3938408334136102 … -0.052681360651874884 0.772321537795859], bias = [-0.25149495324678534, 0.16150479948404342, 0.06691582095284661, 0.09422946313080977, 0.12234978193460211, 0.16190942850477846, 0.3047349259825729, 0.2269361540150291, -0.3136959386674854, 0.15950165618739284]), layer_3 = (weight = [-0.4789518132338541 -0.5380913043617962 … -0.5806250083648863 -0.2963337125689097; -0.5081415222283736 -0.47852194050358654 … -0.5183522787414603 0.00660369946704135; … ; 0.40800827118698896 0.9821892962822381 … 0.1360156819389446 0.7915027903904429; -0.24284603183987655 -0.01567123833420884 … 0.7699947900933386 0.3048400638597444], bias = [0.16339301564713218, 0.3645886310336102, 0.37660909239410656, 0.03076312598988955, 0.21864776524429425, -0.07070800117642509, -0.13613212280198314, 0.2707126845545504, 0.12336401829619725, 0.1190303599846863]), layer_4 = (weight = [0.46003108297097106 0.3551587801340466 … -0.5410183007708759 -0.7539107614948244], bias = [-0.0029479767235066944]))"
      ]
     },
     "metadata": {},
     "output_type": "display_data"
    }
   ],
   "source": [
    "# Train using the Adam optimizer\n",
    "res_adam = solve(opt_prob, Optimisers.Adam(1e-3), callback=callback, maxiters=iters)"
   ]
  },
  {
   "cell_type": "code",
   "execution_count": 14,
   "metadata": {},
   "outputs": [
    {
     "name": "stdout",
     "output_type": "stream",
     "text": [
      "Iteration:     1, Loss: 9.287774344287e-02\n",
      "Iteration:   101, Loss: 5.435939759280e-05\n",
      "Iteration:   201, Loss: 3.649386525440e-05\n",
      "Iteration:   301, Loss: 1.177367970625e-05\n",
      "Iteration:   401, Loss: 8.244150365219e-06\n",
      "Iteration:   501, Loss: 1.064423522867e-06\n"
     ]
    },
    {
     "data": {
      "text/plain": [
       "retcode: Failure\n",
       "u: \u001b[0mComponentVector{Float64, CuArray{Float64, 1, CUDA.DeviceMemory}, Tuple{Axis{(layer_1 = ViewAxis(1:20, Axis(weight = ViewAxis(1:10, ShapedAxis((10, 1))), bias = 11:20)), layer_2 = ViewAxis(21:130, Axis(weight = ViewAxis(1:100, ShapedAxis((10, 10))), bias = 101:110)), layer_3 = ViewAxis(131:240, Axis(weight = ViewAxis(1:100, ShapedAxis((10, 10))), bias = 101:110)), layer_4 = ViewAxis(241:251, Axis(weight = ViewAxis(1:10, ShapedAxis((1, 10))), bias = 11:11)))}}}(layer_1 = (weight = [-0.6758807768819438; -0.779208072622729; … ; -0.39844186447390156; -0.31185505536806146;;], bias = [0.14861358065248698, -0.10480503116870007, -0.3078496181751586, -0.24065428071487655, 0.7622806089923657, -0.18205716081231268, -0.003957057059432158, -0.500875750304717, 0.03095393635511934, 0.6477877414838531]), layer_2 = (weight = [-0.15463240856757057 0.6338197374245305 … 0.3742803552358693 0.08071954363521186; 0.19888596931191085 -0.016407870101180406 … 0.3139283312237705 0.48465025152680585; … ; 0.20902031981848349 0.10048216699582534 … 0.3766322231930534 0.06763473727904465; -0.33392515133225165 -0.41953757106727446 … -0.03575031803623779 0.879338730354593], bias = [-0.26516643945300516, 0.1689194815196689, 0.029618594370699414, 0.1277945681187526, 0.1218786138634773, 0.24103714064198759, 0.27714017704206645, 0.1993838030846555, -0.29333709128541163, 0.17500694329924582]), layer_3 = (weight = [-0.4507560415701501 -0.5219385051804145 … -0.5577595209840285 -0.2785331525867345; -0.4888276646814511 -0.47601284255728954 … -0.5101102370902186 0.02129547265871822; … ; 0.39097992822356065 1.0306757252366852 … 0.11606388704204959 0.9829604716168805; -0.129971725893887 0.016975577759724386 … 0.8781946891089565 0.33128026722080905], bias = [0.18726365046999555, 0.4206996634483046, 0.38674333798124244, -0.03656732296586395, 0.18410299227491417, -0.05436797533489013, -0.06342727300203, 0.3105435792321599, 0.14219326202071572, 0.005573615072044497]), layer_4 = (weight = [0.38069420319333114 0.35583402014414334 … -0.5894303399678078 -0.746204189527697], bias = [0.01762429388556839]))"
      ]
     },
     "metadata": {},
     "output_type": "display_data"
    }
   ],
   "source": [
    "# Redefine the optimization problem with updated parameters\n",
    "opt_prob = OptimizationProblem(opt_func, res_adam.u, data)\n",
    "\n",
    "# Further training using the LBFGS optimizer\n",
    "res_lbfgs = solve(opt_prob, OptimizationOptimJL.LBFGS(); callback, maxiters=iters)"
   ]
  },
  {
   "cell_type": "code",
   "execution_count": 15,
   "metadata": {},
   "outputs": [
    {
     "data": {
      "text/plain": [
       "1×100 CuArray{Float64, 2, CUDA.DeviceMemory}:\n",
       " -0.00883164  0.061768  0.13195  0.20146  …  -0.186282  -0.138973  -0.091595"
      ]
     },
     "metadata": {},
     "output_type": "display_data"
    }
   ],
   "source": [
    "# Make predictions with the optimized model\n",
    "pred = smodel(input_data, res_adam.u)"
   ]
  },
  {
   "cell_type": "code",
   "execution_count": 16,
   "metadata": {},
   "outputs": [
    {
     "data": {
      "image/png": "[encoded data removed]",
      "image/svg+xml": [
       "<?xml version=\"1.0\" encoding=\"utf-8\"?>\n",
       "<svg xmlns=\"http://www.w3.org/2000/svg\" xmlns:xlink=\"http://www.w3.org/1999/xlink\" width=\"600\" height=\"400\" viewBox=\"0 0 2400 1600\">\n",
       "<defs>\n",
       "  <clipPath id=\"clip630\">\n",
       "    <rect x=\"0\" y=\"0\" width=\"2400\" height=\"1600\"/>\n",
       "  </clipPath>\n",
       "</defs>\n",
       "<path clip-path=\"url(#clip630)\" d=\"M0 1600 L2400 1600 L2400 0 L0 0  Z\" fill=\"#ffffff\" fill-rule=\"evenodd\" fill-opacity=\"1\"/>\n",
       "<defs>\n",
       "  <clipPath id=\"clip631\">\n",
       "    <rect x=\"480\" y=\"0\" width=\"1681\" height=\"1600\"/>\n",
       "  </clipPath>\n",
       "</defs>\n",
       "<path clip-path=\"url(#clip630)\" d=\"M192.941 1486.45 L2352.76 1486.45 L2352.76 47.2441 L192.941 47.2441  Z\" fill=\"#ffffff\" fill-rule=\"evenodd\" fill-opacity=\"1\"/>\n",
       "<defs>\n",
       "  <clipPath id=\"clip632\">\n",
       "    <rect x=\"192\" y=\"47\" width=\"2161\" height=\"1440\"/>\n",
       "  </clipPath>\n",
       "</defs>\n",
       "<polyline clip-path=\"url(#clip632)\" style=\"stroke:#000000; stroke-linecap:round; stroke-linejoin:round; stroke-width:2; stroke-opacity:0.1; fill:none\" points=\"254.067,1486.45 254.067,47.2441 \"/>\n",
       "<polyline clip-path=\"url(#clip632)\" style=\"stroke:#000000; stroke-linecap:round; stroke-linejoin:round; stroke-width:2; stroke-opacity:0.1; fill:none\" points=\"902.643,1486.45 902.643,47.2441 \"/>\n",
       "<polyline clip-path=\"url(#clip632)\" style=\"stroke:#000000; stroke-linecap:round; stroke-linejoin:round; stroke-width:2; stroke-opacity:0.1; fill:none\" points=\"1551.22,1486.45 1551.22,47.2441 \"/>\n",
       "<polyline clip-path=\"url(#clip632)\" style=\"stroke:#000000; stroke-linecap:round; stroke-linejoin:round; stroke-width:2; stroke-opacity:0.1; fill:none\" points=\"2199.8,1486.45 2199.8,47.2441 \"/>\n",
       "<polyline clip-path=\"url(#clip632)\" style=\"stroke:#000000; stroke-linecap:round; stroke-linejoin:round; stroke-width:2; stroke-opacity:0.1; fill:none\" points=\"192.941,1209.23 2352.76,1209.23 \"/>\n",
       "<polyline clip-path=\"url(#clip632)\" style=\"stroke:#000000; stroke-linecap:round; stroke-linejoin:round; stroke-width:2; stroke-opacity:0.1; fill:none\" points=\"192.941,866.758 2352.76,866.758 \"/>\n",
       "<polyline clip-path=\"url(#clip632)\" style=\"stroke:#000000; stroke-linecap:round; stroke-linejoin:round; stroke-width:2; stroke-opacity:0.1; fill:none\" points=\"192.941,524.29 2352.76,524.29 \"/>\n",
       "<polyline clip-path=\"url(#clip632)\" style=\"stroke:#000000; stroke-linecap:round; stroke-linejoin:round; stroke-width:2; stroke-opacity:0.1; fill:none\" points=\"192.941,181.822 2352.76,181.822 \"/>\n",
       "<polyline clip-path=\"url(#clip630)\" style=\"stroke:#000000; stroke-linecap:round; stroke-linejoin:round; stroke-width:4; stroke-opacity:1; fill:none\" points=\"192.941,1486.45 2352.76,1486.45 \"/>\n",
       "<polyline clip-path=\"url(#clip630)\" style=\"stroke:#000000; stroke-linecap:round; stroke-linejoin:round; stroke-width:4; stroke-opacity:1; fill:none\" points=\"254.067,1486.45 254.067,1467.55 \"/>\n",
       "<polyline clip-path=\"url(#clip630)\" style=\"stroke:#000000; stroke-linecap:round; stroke-linejoin:round; stroke-width:4; stroke-opacity:1; fill:none\" points=\"902.643,1486.45 902.643,1467.55 \"/>\n",
       "<polyline clip-path=\"url(#clip630)\" style=\"stroke:#000000; stroke-linecap:round; stroke-linejoin:round; stroke-width:4; stroke-opacity:1; fill:none\" points=\"1551.22,1486.45 1551.22,1467.55 \"/>\n",
       "<polyline clip-path=\"url(#clip630)\" style=\"stroke:#000000; stroke-linecap:round; stroke-linejoin:round; stroke-width:4; stroke-opacity:1; fill:none\" points=\"2199.8,1486.45 2199.8,1467.55 \"/>\n",
       "<path clip-path=\"url(#clip630)\" d=\"M254.067 1517.37 Q250.456 1517.37 248.628 1520.93 Q246.822 1524.47 246.822 1531.6 Q246.822 1538.71 248.628 1542.27 Q250.456 1545.82 254.067 1545.82 Q257.702 1545.82 259.507 1542.27 Q261.336 1538.71 261.336 1531.6 Q261.336 1524.47 259.507 1520.93 Q257.702 1517.37 254.067 1517.37 M254.067 1513.66 Q259.878 1513.66 262.933 1518.27 Q266.012 1522.85 266.012 1531.6 Q266.012 1540.33 262.933 1544.94 Q259.878 1549.52 254.067 1549.52 Q248.257 1549.52 245.179 1544.94 Q242.123 1540.33 242.123 1531.6 Q242.123 1522.85 245.179 1518.27 Q248.257 1513.66 254.067 1513.66 Z\" fill=\"#000000\" fill-rule=\"nonzero\" fill-opacity=\"1\" /><path clip-path=\"url(#clip630)\" d=\"M893.025 1544.91 L900.664 1544.91 L900.664 1518.55 L892.354 1520.21 L892.354 1515.95 L900.618 1514.29 L905.294 1514.29 L905.294 1544.91 L912.933 1544.91 L912.933 1548.85 L893.025 1548.85 L893.025 1544.91 Z\" fill=\"#000000\" fill-rule=\"nonzero\" fill-opacity=\"1\" /><path clip-path=\"url(#clip630)\" d=\"M1545.87 1544.91 L1562.19 1544.91 L1562.19 1548.85 L1540.25 1548.85 L1540.25 1544.91 Q1542.91 1542.16 1547.49 1537.53 Q1552.1 1532.88 1553.28 1531.53 Q1555.52 1529.01 1556.4 1527.27 Q1557.31 1525.51 1557.31 1523.82 Q1557.31 1521.07 1555.36 1519.33 Q1553.44 1517.6 1550.34 1517.6 Q1548.14 1517.6 1545.69 1518.36 Q1543.26 1519.13 1540.48 1520.68 L1540.48 1515.95 Q1543.3 1514.82 1545.76 1514.24 Q1548.21 1513.66 1550.25 1513.66 Q1555.62 1513.66 1558.81 1516.35 Q1562.01 1519.03 1562.01 1523.52 Q1562.01 1525.65 1561.2 1527.57 Q1560.41 1529.47 1558.3 1532.07 Q1557.72 1532.74 1554.62 1535.95 Q1551.52 1539.15 1545.87 1544.91 Z\" fill=\"#000000\" fill-rule=\"nonzero\" fill-opacity=\"1\" /><path clip-path=\"url(#clip630)\" d=\"M2204.04 1530.21 Q2207.4 1530.93 2209.27 1533.2 Q2211.17 1535.47 2211.17 1538.8 Q2211.17 1543.92 2207.65 1546.72 Q2204.14 1549.52 2197.65 1549.52 Q2195.48 1549.52 2193.16 1549.08 Q2190.87 1548.66 2188.42 1547.81 L2188.42 1543.29 Q2190.36 1544.43 2192.68 1545.01 Q2194.99 1545.58 2197.52 1545.58 Q2201.91 1545.58 2204.21 1543.85 Q2206.52 1542.11 2206.52 1538.8 Q2206.52 1535.75 2204.37 1534.03 Q2202.24 1532.3 2198.42 1532.3 L2194.39 1532.3 L2194.39 1528.45 L2198.6 1528.45 Q2202.05 1528.45 2203.88 1527.09 Q2205.71 1525.7 2205.71 1523.11 Q2205.71 1520.45 2203.81 1519.03 Q2201.94 1517.6 2198.42 1517.6 Q2196.5 1517.6 2194.3 1518.01 Q2192.1 1518.43 2189.46 1519.31 L2189.46 1515.14 Q2192.12 1514.4 2194.44 1514.03 Q2196.77 1513.66 2198.83 1513.66 Q2204.16 1513.66 2207.26 1516.09 Q2210.36 1518.5 2210.36 1522.62 Q2210.36 1525.49 2208.72 1527.48 Q2207.08 1529.45 2204.04 1530.21 Z\" fill=\"#000000\" fill-rule=\"nonzero\" fill-opacity=\"1\" /><polyline clip-path=\"url(#clip630)\" style=\"stroke:#000000; stroke-linecap:round; stroke-linejoin:round; stroke-width:4; stroke-opacity:1; fill:none\" points=\"192.941,1486.45 192.941,47.2441 \"/>\n",
       "<polyline clip-path=\"url(#clip630)\" style=\"stroke:#000000; stroke-linecap:round; stroke-linejoin:round; stroke-width:4; stroke-opacity:1; fill:none\" points=\"192.941,1209.23 211.838,1209.23 \"/>\n",
       "<polyline clip-path=\"url(#clip630)\" style=\"stroke:#000000; stroke-linecap:round; stroke-linejoin:round; stroke-width:4; stroke-opacity:1; fill:none\" points=\"192.941,866.758 211.838,866.758 \"/>\n",
       "<polyline clip-path=\"url(#clip630)\" style=\"stroke:#000000; stroke-linecap:round; stroke-linejoin:round; stroke-width:4; stroke-opacity:1; fill:none\" points=\"192.941,524.29 211.838,524.29 \"/>\n",
       "<polyline clip-path=\"url(#clip630)\" style=\"stroke:#000000; stroke-linecap:round; stroke-linejoin:round; stroke-width:4; stroke-opacity:1; fill:none\" points=\"192.941,181.822 211.838,181.822 \"/>\n",
       "<path clip-path=\"url(#clip630)\" d=\"M50.9921 1209.68 L80.6679 1209.68 L80.6679 1213.61 L50.9921 1213.61 L50.9921 1209.68 Z\" fill=\"#000000\" fill-rule=\"nonzero\" fill-opacity=\"1\" /><path clip-path=\"url(#clip630)\" d=\"M100.76 1195.02 Q97.1493 1195.02 95.3206 1198.59 Q93.515 1202.13 93.515 1209.26 Q93.515 1216.37 95.3206 1219.93 Q97.1493 1223.47 100.76 1223.47 Q104.395 1223.47 106.2 1219.93 Q108.029 1216.37 108.029 1209.26 Q108.029 1202.13 106.2 1198.59 Q104.395 1195.02 100.76 1195.02 M100.76 1191.32 Q106.571 1191.32 109.626 1195.93 Q112.705 1200.51 112.705 1209.26 Q112.705 1217.99 109.626 1222.59 Q106.571 1227.18 100.76 1227.18 Q94.9502 1227.18 91.8715 1222.59 Q88.816 1217.99 88.816 1209.26 Q88.816 1200.51 91.8715 1195.93 Q94.9502 1191.32 100.76 1191.32 Z\" fill=\"#000000\" fill-rule=\"nonzero\" fill-opacity=\"1\" /><path clip-path=\"url(#clip630)\" d=\"M120.922 1220.63 L125.807 1220.63 L125.807 1226.51 L120.922 1226.51 L120.922 1220.63 Z\" fill=\"#000000\" fill-rule=\"nonzero\" fill-opacity=\"1\" /><path clip-path=\"url(#clip630)\" d=\"M136.038 1191.95 L154.394 1191.95 L154.394 1195.88 L140.32 1195.88 L140.32 1204.35 Q141.339 1204.01 142.357 1203.84 Q143.376 1203.66 144.394 1203.66 Q150.181 1203.66 153.561 1206.83 Q156.941 1210 156.941 1215.42 Q156.941 1221 153.468 1224.1 Q149.996 1227.18 143.677 1227.18 Q141.501 1227.18 139.232 1226.81 Q136.987 1226.44 134.58 1225.7 L134.58 1221 Q136.663 1222.13 138.885 1222.69 Q141.107 1223.24 143.584 1223.24 Q147.589 1223.24 149.927 1221.14 Q152.265 1219.03 152.265 1215.42 Q152.265 1211.81 149.927 1209.7 Q147.589 1207.59 143.584 1207.59 Q141.709 1207.59 139.834 1208.01 Q137.982 1208.43 136.038 1209.31 L136.038 1191.95 Z\" fill=\"#000000\" fill-rule=\"nonzero\" fill-opacity=\"1\" /><path clip-path=\"url(#clip630)\" d=\"M99.765 852.557 Q96.1539 852.557 94.3252 856.122 Q92.5197 859.663 92.5197 866.793 Q92.5197 873.899 94.3252 877.464 Q96.1539 881.006 99.765 881.006 Q103.399 881.006 105.205 877.464 Q107.033 873.899 107.033 866.793 Q107.033 859.663 105.205 856.122 Q103.399 852.557 99.765 852.557 M99.765 848.853 Q105.575 848.853 108.631 853.46 Q111.709 858.043 111.709 866.793 Q111.709 875.52 108.631 880.126 Q105.575 884.71 99.765 884.71 Q93.9549 884.71 90.8762 880.126 Q87.8206 875.52 87.8206 866.793 Q87.8206 858.043 90.8762 853.46 Q93.9549 848.853 99.765 848.853 Z\" fill=\"#000000\" fill-rule=\"nonzero\" fill-opacity=\"1\" /><path clip-path=\"url(#clip630)\" d=\"M119.927 878.159 L124.811 878.159 L124.811 884.038 L119.927 884.038 L119.927 878.159 Z\" fill=\"#000000\" fill-rule=\"nonzero\" fill-opacity=\"1\" /><path clip-path=\"url(#clip630)\" d=\"M144.996 852.557 Q141.385 852.557 139.556 856.122 Q137.751 859.663 137.751 866.793 Q137.751 873.899 139.556 877.464 Q141.385 881.006 144.996 881.006 Q148.63 881.006 150.436 877.464 Q152.265 873.899 152.265 866.793 Q152.265 859.663 150.436 856.122 Q148.63 852.557 144.996 852.557 M144.996 848.853 Q150.806 848.853 153.862 853.46 Q156.941 858.043 156.941 866.793 Q156.941 875.52 153.862 880.126 Q150.806 884.71 144.996 884.71 Q139.186 884.71 136.107 880.126 Q133.052 875.52 133.052 866.793 Q133.052 858.043 136.107 853.46 Q139.186 848.853 144.996 848.853 Z\" fill=\"#000000\" fill-rule=\"nonzero\" fill-opacity=\"1\" /><path clip-path=\"url(#clip630)\" d=\"M100.76 510.089 Q97.1493 510.089 95.3206 513.654 Q93.515 517.195 93.515 524.325 Q93.515 531.431 95.3206 534.996 Q97.1493 538.538 100.76 538.538 Q104.395 538.538 106.2 534.996 Q108.029 531.431 108.029 524.325 Q108.029 517.195 106.2 513.654 Q104.395 510.089 100.76 510.089 M100.76 506.385 Q106.571 506.385 109.626 510.992 Q112.705 515.575 112.705 524.325 Q112.705 533.052 109.626 537.658 Q106.571 542.242 100.76 542.242 Q94.9502 542.242 91.8715 537.658 Q88.816 533.052 88.816 524.325 Q88.816 515.575 91.8715 510.992 Q94.9502 506.385 100.76 506.385 Z\" fill=\"#000000\" fill-rule=\"nonzero\" fill-opacity=\"1\" /><path clip-path=\"url(#clip630)\" d=\"M120.922 535.691 L125.807 535.691 L125.807 541.57 L120.922 541.57 L120.922 535.691 Z\" fill=\"#000000\" fill-rule=\"nonzero\" fill-opacity=\"1\" /><path clip-path=\"url(#clip630)\" d=\"M136.038 507.01 L154.394 507.01 L154.394 510.945 L140.32 510.945 L140.32 519.418 Q141.339 519.07 142.357 518.908 Q143.376 518.723 144.394 518.723 Q150.181 518.723 153.561 521.894 Q156.941 525.066 156.941 530.482 Q156.941 536.061 153.468 539.163 Q149.996 542.242 143.677 542.242 Q141.501 542.242 139.232 541.871 Q136.987 541.501 134.58 540.76 L134.58 536.061 Q136.663 537.195 138.885 537.751 Q141.107 538.306 143.584 538.306 Q147.589 538.306 149.927 536.2 Q152.265 534.093 152.265 530.482 Q152.265 526.871 149.927 524.765 Q147.589 522.658 143.584 522.658 Q141.709 522.658 139.834 523.075 Q137.982 523.492 136.038 524.371 L136.038 507.01 Z\" fill=\"#000000\" fill-rule=\"nonzero\" fill-opacity=\"1\" /><path clip-path=\"url(#clip630)\" d=\"M90.5752 195.167 L98.2141 195.167 L98.2141 168.801 L89.904 170.468 L89.904 166.209 L98.1678 164.542 L102.844 164.542 L102.844 195.167 L110.483 195.167 L110.483 199.102 L90.5752 199.102 L90.5752 195.167 Z\" fill=\"#000000\" fill-rule=\"nonzero\" fill-opacity=\"1\" /><path clip-path=\"url(#clip630)\" d=\"M119.927 193.223 L124.811 193.223 L124.811 199.102 L119.927 199.102 L119.927 193.223 Z\" fill=\"#000000\" fill-rule=\"nonzero\" fill-opacity=\"1\" /><path clip-path=\"url(#clip630)\" d=\"M144.996 167.621 Q141.385 167.621 139.556 171.186 Q137.751 174.727 137.751 181.857 Q137.751 188.963 139.556 192.528 Q141.385 196.07 144.996 196.07 Q148.63 196.07 150.436 192.528 Q152.265 188.963 152.265 181.857 Q152.265 174.727 150.436 171.186 Q148.63 167.621 144.996 167.621 M144.996 163.917 Q150.806 163.917 153.862 168.524 Q156.941 173.107 156.941 181.857 Q156.941 190.584 153.862 195.19 Q150.806 199.774 144.996 199.774 Q139.186 199.774 136.107 195.19 Q133.052 190.584 133.052 181.857 Q133.052 173.107 136.107 168.524 Q139.186 163.917 144.996 163.917 Z\" fill=\"#000000\" fill-rule=\"nonzero\" fill-opacity=\"1\" /><polyline clip-path=\"url(#clip632)\" style=\"stroke:#009af9; stroke-linecap:round; stroke-linejoin:round; stroke-width:4; stroke-opacity:1; fill:none\" points=\"254.067,872.807 274.649,824.451 295.23,776.381 315.812,728.771 336.393,681.792 356.975,635.607 377.556,590.377 398.137,546.261 418.719,503.409 439.3,461.974 459.882,422.101 480.463,383.932 501.045,347.604 521.626,313.247 542.207,280.984 562.789,250.929 583.37,223.186 603.952,197.849 624.533,175 645.115,154.71 665.696,137.038 686.278,122.033 706.859,109.733 727.44,100.163 748.022,93.3428 768.603,89.2802 789.185,87.9763 809.766,89.4245 830.348,93.6114 850.929,100.517 871.51,110.114 892.092,122.37 912.673,137.243 933.255,154.685 953.836,174.638 974.417,197.034 994.999,221.794 1015.58,248.827 1036.16,278.028 1056.74,309.278 1077.32,342.447 1097.91,377.387 1118.49,413.94 1139.07,451.935 1159.65,491.193 1180.23,531.525 1200.81,572.738 1221.39,614.637 1241.98,657.026 1262.56,699.715 1283.14,742.517 1303.72,785.255 1324.3,827.76 1344.88,869.877 1365.46,911.459 1386.05,952.371 1406.63,992.487 1427.21,1031.69 1447.79,1069.86 1468.37,1106.89 1488.95,1142.67 1509.53,1177.08 1530.12,1209.99 1550.7,1241.28 1571.28,1270.83 1591.86,1298.49 1612.44,1324.12 1633.02,1347.61 1653.6,1368.81 1674.19,1387.61 1694.77,1403.92 1715.35,1417.63 1735.93,1428.68 1756.51,1437.03 1777.09,1442.65 1797.67,1445.54 1818.26,1445.72 1838.84,1443.22 1859.42,1438.1 1880,1430.44 1900.58,1420.33 1921.16,1407.86 1941.74,1393.16 1962.33,1376.33 1982.91,1357.52 2003.49,1336.84 2024.07,1314.45 2044.65,1290.48 2065.23,1265.07 2085.81,1238.36 2106.4,1210.5 2126.98,1181.62 2147.56,1151.86 2168.14,1121.35 2188.72,1090.22 2209.3,1058.6 2229.88,1026.6 2250.47,994.35 2271.05,961.946 2291.63,929.495 \"/>\n",
       "<path clip-path=\"url(#clip630)\" d=\"M1521.43 198.898 L2280.76 198.898 L2280.76 95.2176 L1521.43 95.2176  Z\" fill=\"#ffffff\" fill-rule=\"evenodd\" fill-opacity=\"1\"/>\n",
       "<polyline clip-path=\"url(#clip630)\" style=\"stroke:#000000; stroke-linecap:round; stroke-linejoin:round; stroke-width:4; stroke-opacity:1; fill:none\" points=\"1521.43,198.898 2280.76,198.898 2280.76,95.2176 1521.43,95.2176 1521.43,198.898 \"/>\n",
       "<polyline clip-path=\"url(#clip630)\" style=\"stroke:#009af9; stroke-linecap:round; stroke-linejoin:round; stroke-width:4; stroke-opacity:1; fill:none\" points=\"1545.42,147.058 1689.41,147.058 \"/>\n",
       "<path clip-path=\"url(#clip630)\" d=\"M1713.41 129.778 L1719.71 129.778 L1735.03 158.689 L1735.03 129.778 L1739.57 129.778 L1739.57 164.338 L1733.27 164.338 L1717.95 135.426 L1717.95 164.338 L1713.41 164.338 L1713.41 129.778 Z\" fill=\"#000000\" fill-rule=\"nonzero\" fill-opacity=\"1\" /><path clip-path=\"url(#clip630)\" d=\"M1770.86 150.31 L1770.86 152.393 L1751.28 152.393 Q1751.56 156.791 1753.92 159.106 Q1756.3 161.398 1760.54 161.398 Q1762.99 161.398 1765.29 160.796 Q1767.6 160.194 1769.87 158.99 L1769.87 163.018 Q1767.58 163.99 1765.17 164.5 Q1762.76 165.009 1760.29 165.009 Q1754.08 165.009 1750.45 161.398 Q1746.84 157.787 1746.84 151.629 Q1746.84 145.264 1750.26 141.537 Q1753.71 137.787 1759.54 137.787 Q1764.78 137.787 1767.81 141.166 Q1770.86 144.523 1770.86 150.31 M1766.6 149.06 Q1766.56 145.565 1764.64 143.481 Q1762.74 141.398 1759.59 141.398 Q1756.03 141.398 1753.87 143.412 Q1751.74 145.426 1751.42 149.083 L1766.6 149.06 Z\" fill=\"#000000\" fill-rule=\"nonzero\" fill-opacity=\"1\" /><path clip-path=\"url(#clip630)\" d=\"M1777.41 154.106 L1777.41 138.412 L1781.67 138.412 L1781.67 153.944 Q1781.67 157.625 1783.11 159.476 Q1784.54 161.305 1787.41 161.305 Q1790.86 161.305 1792.85 159.106 Q1794.87 156.907 1794.87 153.111 L1794.87 138.412 L1799.13 138.412 L1799.13 164.338 L1794.87 164.338 L1794.87 160.356 Q1793.32 162.717 1791.26 163.875 Q1789.22 165.009 1786.51 165.009 Q1782.04 165.009 1779.73 162.231 Q1777.41 159.453 1777.41 154.106 M1788.13 137.787 L1788.13 137.787 Z\" fill=\"#000000\" fill-rule=\"nonzero\" fill-opacity=\"1\" /><path clip-path=\"url(#clip630)\" d=\"M1822.92 142.393 Q1822.21 141.977 1821.35 141.791 Q1820.52 141.583 1819.5 141.583 Q1815.89 141.583 1813.94 143.944 Q1812.02 146.282 1812.02 150.68 L1812.02 164.338 L1807.74 164.338 L1807.74 138.412 L1812.02 138.412 L1812.02 142.44 Q1813.36 140.078 1815.52 138.944 Q1817.67 137.787 1820.75 137.787 Q1821.19 137.787 1821.72 137.856 Q1822.25 137.903 1822.9 138.018 L1822.92 142.393 Z\" fill=\"#000000\" fill-rule=\"nonzero\" fill-opacity=\"1\" /><path clip-path=\"url(#clip630)\" d=\"M1839.17 151.305 Q1834.01 151.305 1832.02 152.486 Q1830.03 153.666 1830.03 156.514 Q1830.03 158.782 1831.51 160.125 Q1833.02 161.444 1835.59 161.444 Q1839.13 161.444 1841.26 158.944 Q1843.41 156.421 1843.41 152.254 L1843.41 151.305 L1839.17 151.305 M1847.67 149.546 L1847.67 164.338 L1843.41 164.338 L1843.41 160.402 Q1841.95 162.763 1839.78 163.898 Q1837.6 165.009 1834.45 165.009 Q1830.47 165.009 1828.11 162.787 Q1825.77 160.541 1825.77 156.791 Q1825.77 152.416 1828.69 150.194 Q1831.63 147.972 1837.44 147.972 L1843.41 147.972 L1843.41 147.555 Q1843.41 144.615 1841.47 143.018 Q1839.54 141.398 1836.05 141.398 Q1833.83 141.398 1831.72 141.93 Q1829.61 142.463 1827.67 143.527 L1827.67 139.592 Q1830.01 138.69 1832.21 138.25 Q1834.41 137.787 1836.49 137.787 Q1842.11 137.787 1844.89 140.703 Q1847.67 143.62 1847.67 149.546 Z\" fill=\"#000000\" fill-rule=\"nonzero\" fill-opacity=\"1\" /><path clip-path=\"url(#clip630)\" d=\"M1856.44 128.319 L1860.7 128.319 L1860.7 164.338 L1856.44 164.338 L1856.44 128.319 Z\" fill=\"#000000\" fill-rule=\"nonzero\" fill-opacity=\"1\" /><path clip-path=\"url(#clip630)\" d=\"M1884.87 129.778 L1891.16 129.778 L1906.49 158.689 L1906.49 129.778 L1911.03 129.778 L1911.03 164.338 L1904.73 164.338 L1889.4 135.426 L1889.4 164.338 L1884.87 164.338 L1884.87 129.778 Z\" fill=\"#000000\" fill-rule=\"nonzero\" fill-opacity=\"1\" /><path clip-path=\"url(#clip630)\" d=\"M1942.32 150.31 L1942.32 152.393 L1922.74 152.393 Q1923.02 156.791 1925.38 159.106 Q1927.76 161.398 1932 161.398 Q1934.45 161.398 1936.74 160.796 Q1939.06 160.194 1941.33 158.99 L1941.33 163.018 Q1939.03 163.99 1936.63 164.5 Q1934.22 165.009 1931.74 165.009 Q1925.54 165.009 1921.9 161.398 Q1918.29 157.787 1918.29 151.629 Q1918.29 145.264 1921.72 141.537 Q1925.17 137.787 1931 137.787 Q1936.23 137.787 1939.27 141.166 Q1942.32 144.523 1942.32 150.31 M1938.06 149.06 Q1938.02 145.565 1936.09 143.481 Q1934.2 141.398 1931.05 141.398 Q1927.48 141.398 1925.33 143.412 Q1923.2 145.426 1922.88 149.083 L1938.06 149.06 Z\" fill=\"#000000\" fill-rule=\"nonzero\" fill-opacity=\"1\" /><path clip-path=\"url(#clip630)\" d=\"M1953.52 131.051 L1953.52 138.412 L1962.3 138.412 L1962.3 141.722 L1953.52 141.722 L1953.52 155.796 Q1953.52 158.967 1954.38 159.87 Q1955.26 160.773 1957.92 160.773 L1962.3 160.773 L1962.3 164.338 L1957.92 164.338 Q1952.99 164.338 1951.12 162.509 Q1949.24 160.657 1949.24 155.796 L1949.24 141.722 L1946.12 141.722 L1946.12 138.412 L1949.24 138.412 L1949.24 131.051 L1953.52 131.051 Z\" fill=\"#000000\" fill-rule=\"nonzero\" fill-opacity=\"1\" /><path clip-path=\"url(#clip630)\" d=\"M1965.42 138.412 L1969.68 138.412 L1975.01 158.643 L1980.31 138.412 L1985.33 138.412 L1990.65 158.643 L1995.96 138.412 L2000.21 138.412 L1993.43 164.338 L1988.41 164.338 L1982.83 143.088 L1977.23 164.338 L1972.21 164.338 L1965.42 138.412 Z\" fill=\"#000000\" fill-rule=\"nonzero\" fill-opacity=\"1\" /><path clip-path=\"url(#clip630)\" d=\"M2016.72 141.398 Q2013.29 141.398 2011.3 144.083 Q2009.31 146.745 2009.31 151.398 Q2009.31 156.051 2011.28 158.736 Q2013.27 161.398 2016.72 161.398 Q2020.12 161.398 2022.11 158.713 Q2024.1 156.027 2024.1 151.398 Q2024.1 146.791 2022.11 144.106 Q2020.12 141.398 2016.72 141.398 M2016.72 137.787 Q2022.27 137.787 2025.45 141.398 Q2028.62 145.009 2028.62 151.398 Q2028.62 157.764 2025.45 161.398 Q2022.27 165.009 2016.72 165.009 Q2011.14 165.009 2007.97 161.398 Q2004.82 157.764 2004.82 151.398 Q2004.82 145.009 2007.97 141.398 Q2011.14 137.787 2016.72 137.787 Z\" fill=\"#000000\" fill-rule=\"nonzero\" fill-opacity=\"1\" /><path clip-path=\"url(#clip630)\" d=\"M2050.7 142.393 Q2049.98 141.977 2049.13 141.791 Q2048.29 141.583 2047.27 141.583 Q2043.66 141.583 2041.72 143.944 Q2039.8 146.282 2039.8 150.68 L2039.8 164.338 L2035.52 164.338 L2035.52 138.412 L2039.8 138.412 L2039.8 142.44 Q2041.14 140.078 2043.29 138.944 Q2045.45 137.787 2048.52 137.787 Q2048.96 137.787 2049.5 137.856 Q2050.03 137.903 2050.68 138.018 L2050.7 142.393 Z\" fill=\"#000000\" fill-rule=\"nonzero\" fill-opacity=\"1\" /><path clip-path=\"url(#clip630)\" d=\"M2055.01 128.319 L2059.29 128.319 L2059.29 149.592 L2072 138.412 L2077.44 138.412 L2063.69 150.541 L2078.02 164.338 L2072.46 164.338 L2059.29 151.676 L2059.29 164.338 L2055.01 164.338 L2055.01 128.319 Z\" fill=\"#000000\" fill-rule=\"nonzero\" fill-opacity=\"1\" /><path clip-path=\"url(#clip630)\" d=\"M2111.9 132.949 Q2106.81 132.949 2103.8 136.745 Q2100.82 140.541 2100.82 147.092 Q2100.82 153.62 2103.8 157.416 Q2106.81 161.213 2111.9 161.213 Q2117 161.213 2119.96 157.416 Q2122.95 153.62 2122.95 147.092 Q2122.95 140.541 2119.96 136.745 Q2117 132.949 2111.9 132.949 M2111.9 129.153 Q2119.17 129.153 2123.52 134.037 Q2127.88 138.898 2127.88 147.092 Q2127.88 155.264 2123.52 160.148 Q2119.17 165.009 2111.9 165.009 Q2104.61 165.009 2100.24 160.148 Q2095.89 155.287 2095.89 147.092 Q2095.89 138.898 2100.24 134.037 Q2104.61 129.153 2111.9 129.153 Z\" fill=\"#000000\" fill-rule=\"nonzero\" fill-opacity=\"1\" /><path clip-path=\"url(#clip630)\" d=\"M2134.57 154.106 L2134.57 138.412 L2138.82 138.412 L2138.82 153.944 Q2138.82 157.625 2140.26 159.476 Q2141.7 161.305 2144.57 161.305 Q2148.01 161.305 2150.01 159.106 Q2152.02 156.907 2152.02 153.111 L2152.02 138.412 L2156.28 138.412 L2156.28 164.338 L2152.02 164.338 L2152.02 160.356 Q2150.47 162.717 2148.41 163.875 Q2146.37 165.009 2143.66 165.009 Q2139.2 165.009 2136.88 162.231 Q2134.57 159.453 2134.57 154.106 M2145.28 137.787 L2145.28 137.787 Z\" fill=\"#000000\" fill-rule=\"nonzero\" fill-opacity=\"1\" /><path clip-path=\"url(#clip630)\" d=\"M2169.26 131.051 L2169.26 138.412 L2178.04 138.412 L2178.04 141.722 L2169.26 141.722 L2169.26 155.796 Q2169.26 158.967 2170.12 159.87 Q2171 160.773 2173.66 160.773 L2178.04 160.773 L2178.04 164.338 L2173.66 164.338 Q2168.73 164.338 2166.86 162.509 Q2164.98 160.657 2164.98 155.796 L2164.98 141.722 L2161.86 141.722 L2161.86 138.412 L2164.98 138.412 L2164.98 131.051 L2169.26 131.051 Z\" fill=\"#000000\" fill-rule=\"nonzero\" fill-opacity=\"1\" /><path clip-path=\"url(#clip630)\" d=\"M2187.76 160.449 L2187.76 174.199 L2183.48 174.199 L2183.48 138.412 L2187.76 138.412 L2187.76 142.347 Q2189.1 140.032 2191.14 138.921 Q2193.2 137.787 2196.05 137.787 Q2200.77 137.787 2203.71 141.537 Q2206.67 145.287 2206.67 151.398 Q2206.67 157.509 2203.71 161.259 Q2200.77 165.009 2196.05 165.009 Q2193.2 165.009 2191.14 163.898 Q2189.1 162.763 2187.76 160.449 M2202.25 151.398 Q2202.25 146.699 2200.31 144.037 Q2198.38 141.352 2195.01 141.352 Q2191.63 141.352 2189.68 144.037 Q2187.76 146.699 2187.76 151.398 Q2187.76 156.097 2189.68 158.782 Q2191.63 161.444 2195.01 161.444 Q2198.38 161.444 2200.31 158.782 Q2202.25 156.097 2202.25 151.398 Z\" fill=\"#000000\" fill-rule=\"nonzero\" fill-opacity=\"1\" /><path clip-path=\"url(#clip630)\" d=\"M2213.29 154.106 L2213.29 138.412 L2217.55 138.412 L2217.55 153.944 Q2217.55 157.625 2218.99 159.476 Q2220.42 161.305 2223.29 161.305 Q2226.74 161.305 2228.73 159.106 Q2230.75 156.907 2230.75 153.111 L2230.75 138.412 L2235 138.412 L2235 164.338 L2230.75 164.338 L2230.75 160.356 Q2229.19 162.717 2227.13 163.875 Q2225.1 165.009 2222.39 165.009 Q2217.92 165.009 2215.61 162.231 Q2213.29 159.453 2213.29 154.106 M2224.01 137.787 L2224.01 137.787 Z\" fill=\"#000000\" fill-rule=\"nonzero\" fill-opacity=\"1\" /><path clip-path=\"url(#clip630)\" d=\"M2247.99 131.051 L2247.99 138.412 L2256.76 138.412 L2256.76 141.722 L2247.99 141.722 L2247.99 155.796 Q2247.99 158.967 2248.85 159.87 Q2249.73 160.773 2252.39 160.773 L2256.76 160.773 L2256.76 164.338 L2252.39 164.338 Q2247.46 164.338 2245.58 162.509 Q2243.71 160.657 2243.71 155.796 L2243.71 141.722 L2240.58 141.722 L2240.58 138.412 L2243.71 138.412 L2243.71 131.051 L2247.99 131.051 Z\" fill=\"#000000\" fill-rule=\"nonzero\" fill-opacity=\"1\" /></svg>\n"
      ],
      "text/html": [
       "<?xml version=\"1.0\" encoding=\"utf-8\"?>\n",
       "<svg xmlns=\"http://www.w3.org/2000/svg\" xmlns:xlink=\"http://www.w3.org/1999/xlink\" width=\"600\" height=\"400\" viewBox=\"0 0 2400 1600\">\n",
       "<defs>\n",
       "  <clipPath id=\"clip680\">\n",
       "    <rect x=\"0\" y=\"0\" width=\"2400\" height=\"1600\"/>\n",
       "  </clipPath>\n",
       "</defs>\n",
       "<path clip-path=\"url(#clip680)\" d=\"M0 1600 L2400 1600 L2400 0 L0 0  Z\" fill=\"#ffffff\" fill-rule=\"evenodd\" fill-opacity=\"1\"/>\n",
       "<defs>\n",
       "  <clipPath id=\"clip681\">\n",
       "    <rect x=\"480\" y=\"0\" width=\"1681\" height=\"1600\"/>\n",
       "  </clipPath>\n",
       "</defs>\n",
       "<path clip-path=\"url(#clip680)\" d=\"M192.941 1486.45 L2352.76 1486.45 L2352.76 47.2441 L192.941 47.2441  Z\" fill=\"#ffffff\" fill-rule=\"evenodd\" fill-opacity=\"1\"/>\n",
       "<defs>\n",
       "  <clipPath id=\"clip682\">\n",
       "    <rect x=\"192\" y=\"47\" width=\"2161\" height=\"1440\"/>\n",
       "  </clipPath>\n",
       "</defs>\n",
       "<polyline clip-path=\"url(#clip682)\" style=\"stroke:#000000; stroke-linecap:round; stroke-linejoin:round; stroke-width:2; stroke-opacity:0.1; fill:none\" points=\"254.067,1486.45 254.067,47.2441 \"/>\n",
       "<polyline clip-path=\"url(#clip682)\" style=\"stroke:#000000; stroke-linecap:round; stroke-linejoin:round; stroke-width:2; stroke-opacity:0.1; fill:none\" points=\"902.643,1486.45 902.643,47.2441 \"/>\n",
       "<polyline clip-path=\"url(#clip682)\" style=\"stroke:#000000; stroke-linecap:round; stroke-linejoin:round; stroke-width:2; stroke-opacity:0.1; fill:none\" points=\"1551.22,1486.45 1551.22,47.2441 \"/>\n",
       "<polyline clip-path=\"url(#clip682)\" style=\"stroke:#000000; stroke-linecap:round; stroke-linejoin:round; stroke-width:2; stroke-opacity:0.1; fill:none\" points=\"2199.8,1486.45 2199.8,47.2441 \"/>\n",
       "<polyline clip-path=\"url(#clip682)\" style=\"stroke:#000000; stroke-linecap:round; stroke-linejoin:round; stroke-width:2; stroke-opacity:0.1; fill:none\" points=\"192.941,1209.23 2352.76,1209.23 \"/>\n",
       "<polyline clip-path=\"url(#clip682)\" style=\"stroke:#000000; stroke-linecap:round; stroke-linejoin:round; stroke-width:2; stroke-opacity:0.1; fill:none\" points=\"192.941,866.758 2352.76,866.758 \"/>\n",
       "<polyline clip-path=\"url(#clip682)\" style=\"stroke:#000000; stroke-linecap:round; stroke-linejoin:round; stroke-width:2; stroke-opacity:0.1; fill:none\" points=\"192.941,524.29 2352.76,524.29 \"/>\n",
       "<polyline clip-path=\"url(#clip682)\" style=\"stroke:#000000; stroke-linecap:round; stroke-linejoin:round; stroke-width:2; stroke-opacity:0.1; fill:none\" points=\"192.941,181.822 2352.76,181.822 \"/>\n",
       "<polyline clip-path=\"url(#clip680)\" style=\"stroke:#000000; stroke-linecap:round; stroke-linejoin:round; stroke-width:4; stroke-opacity:1; fill:none\" points=\"192.941,1486.45 2352.76,1486.45 \"/>\n",
       "<polyline clip-path=\"url(#clip680)\" style=\"stroke:#000000; stroke-linecap:round; stroke-linejoin:round; stroke-width:4; stroke-opacity:1; fill:none\" points=\"254.067,1486.45 254.067,1467.55 \"/>\n",
       "<polyline clip-path=\"url(#clip680)\" style=\"stroke:#000000; stroke-linecap:round; stroke-linejoin:round; stroke-width:4; stroke-opacity:1; fill:none\" points=\"902.643,1486.45 902.643,1467.55 \"/>\n",
       "<polyline clip-path=\"url(#clip680)\" style=\"stroke:#000000; stroke-linecap:round; stroke-linejoin:round; stroke-width:4; stroke-opacity:1; fill:none\" points=\"1551.22,1486.45 1551.22,1467.55 \"/>\n",
       "<polyline clip-path=\"url(#clip680)\" style=\"stroke:#000000; stroke-linecap:round; stroke-linejoin:round; stroke-width:4; stroke-opacity:1; fill:none\" points=\"2199.8,1486.45 2199.8,1467.55 \"/>\n",
       "<path clip-path=\"url(#clip680)\" d=\"M254.067 1517.37 Q250.456 1517.37 248.628 1520.93 Q246.822 1524.47 246.822 1531.6 Q246.822 1538.71 248.628 1542.27 Q250.456 1545.82 254.067 1545.82 Q257.702 1545.82 259.507 1542.27 Q261.336 1538.71 261.336 1531.6 Q261.336 1524.47 259.507 1520.93 Q257.702 1517.37 254.067 1517.37 M254.067 1513.66 Q259.878 1513.66 262.933 1518.27 Q266.012 1522.85 266.012 1531.6 Q266.012 1540.33 262.933 1544.94 Q259.878 1549.52 254.067 1549.52 Q248.257 1549.52 245.179 1544.94 Q242.123 1540.33 242.123 1531.6 Q242.123 1522.85 245.179 1518.27 Q248.257 1513.66 254.067 1513.66 Z\" fill=\"#000000\" fill-rule=\"nonzero\" fill-opacity=\"1\" /><path clip-path=\"url(#clip680)\" d=\"M893.025 1544.91 L900.664 1544.91 L900.664 1518.55 L892.354 1520.21 L892.354 1515.95 L900.618 1514.29 L905.294 1514.29 L905.294 1544.91 L912.933 1544.91 L912.933 1548.85 L893.025 1548.85 L893.025 1544.91 Z\" fill=\"#000000\" fill-rule=\"nonzero\" fill-opacity=\"1\" /><path clip-path=\"url(#clip680)\" d=\"M1545.87 1544.91 L1562.19 1544.91 L1562.19 1548.85 L1540.25 1548.85 L1540.25 1544.91 Q1542.91 1542.16 1547.49 1537.53 Q1552.1 1532.88 1553.28 1531.53 Q1555.52 1529.01 1556.4 1527.27 Q1557.31 1525.51 1557.31 1523.82 Q1557.31 1521.07 1555.36 1519.33 Q1553.44 1517.6 1550.34 1517.6 Q1548.14 1517.6 1545.69 1518.36 Q1543.26 1519.13 1540.48 1520.68 L1540.48 1515.95 Q1543.3 1514.82 1545.76 1514.24 Q1548.21 1513.66 1550.25 1513.66 Q1555.62 1513.66 1558.81 1516.35 Q1562.01 1519.03 1562.01 1523.52 Q1562.01 1525.65 1561.2 1527.57 Q1560.41 1529.47 1558.3 1532.07 Q1557.72 1532.74 1554.62 1535.95 Q1551.52 1539.15 1545.87 1544.91 Z\" fill=\"#000000\" fill-rule=\"nonzero\" fill-opacity=\"1\" /><path clip-path=\"url(#clip680)\" d=\"M2204.04 1530.21 Q2207.4 1530.93 2209.27 1533.2 Q2211.17 1535.47 2211.17 1538.8 Q2211.17 1543.92 2207.65 1546.72 Q2204.14 1549.52 2197.65 1549.52 Q2195.48 1549.52 2193.16 1549.08 Q2190.87 1548.66 2188.42 1547.81 L2188.42 1543.29 Q2190.36 1544.43 2192.68 1545.01 Q2194.99 1545.58 2197.52 1545.58 Q2201.91 1545.58 2204.21 1543.85 Q2206.52 1542.11 2206.52 1538.8 Q2206.52 1535.75 2204.37 1534.03 Q2202.24 1532.3 2198.42 1532.3 L2194.39 1532.3 L2194.39 1528.45 L2198.6 1528.45 Q2202.05 1528.45 2203.88 1527.09 Q2205.71 1525.7 2205.71 1523.11 Q2205.71 1520.45 2203.81 1519.03 Q2201.94 1517.6 2198.42 1517.6 Q2196.5 1517.6 2194.3 1518.01 Q2192.1 1518.43 2189.46 1519.31 L2189.46 1515.14 Q2192.12 1514.4 2194.44 1514.03 Q2196.77 1513.66 2198.83 1513.66 Q2204.16 1513.66 2207.26 1516.09 Q2210.36 1518.5 2210.36 1522.62 Q2210.36 1525.49 2208.72 1527.48 Q2207.08 1529.45 2204.04 1530.21 Z\" fill=\"#000000\" fill-rule=\"nonzero\" fill-opacity=\"1\" /><polyline clip-path=\"url(#clip680)\" style=\"stroke:#000000; stroke-linecap:round; stroke-linejoin:round; stroke-width:4; stroke-opacity:1; fill:none\" points=\"192.941,1486.45 192.941,47.2441 \"/>\n",
       "<polyline clip-path=\"url(#clip680)\" style=\"stroke:#000000; stroke-linecap:round; stroke-linejoin:round; stroke-width:4; stroke-opacity:1; fill:none\" points=\"192.941,1209.23 211.838,1209.23 \"/>\n",
       "<polyline clip-path=\"url(#clip680)\" style=\"stroke:#000000; stroke-linecap:round; stroke-linejoin:round; stroke-width:4; stroke-opacity:1; fill:none\" points=\"192.941,866.758 211.838,866.758 \"/>\n",
       "<polyline clip-path=\"url(#clip680)\" style=\"stroke:#000000; stroke-linecap:round; stroke-linejoin:round; stroke-width:4; stroke-opacity:1; fill:none\" points=\"192.941,524.29 211.838,524.29 \"/>\n",
       "<polyline clip-path=\"url(#clip680)\" style=\"stroke:#000000; stroke-linecap:round; stroke-linejoin:round; stroke-width:4; stroke-opacity:1; fill:none\" points=\"192.941,181.822 211.838,181.822 \"/>\n",
       "<path clip-path=\"url(#clip680)\" d=\"M50.9921 1209.68 L80.6679 1209.68 L80.6679 1213.61 L50.9921 1213.61 L50.9921 1209.68 Z\" fill=\"#000000\" fill-rule=\"nonzero\" fill-opacity=\"1\" /><path clip-path=\"url(#clip680)\" d=\"M100.76 1195.02 Q97.1493 1195.02 95.3206 1198.59 Q93.515 1202.13 93.515 1209.26 Q93.515 1216.37 95.3206 1219.93 Q97.1493 1223.47 100.76 1223.47 Q104.395 1223.47 106.2 1219.93 Q108.029 1216.37 108.029 1209.26 Q108.029 1202.13 106.2 1198.59 Q104.395 1195.02 100.76 1195.02 M100.76 1191.32 Q106.571 1191.32 109.626 1195.93 Q112.705 1200.51 112.705 1209.26 Q112.705 1217.99 109.626 1222.59 Q106.571 1227.18 100.76 1227.18 Q94.9502 1227.18 91.8715 1222.59 Q88.816 1217.99 88.816 1209.26 Q88.816 1200.51 91.8715 1195.93 Q94.9502 1191.32 100.76 1191.32 Z\" fill=\"#000000\" fill-rule=\"nonzero\" fill-opacity=\"1\" /><path clip-path=\"url(#clip680)\" d=\"M120.922 1220.63 L125.807 1220.63 L125.807 1226.51 L120.922 1226.51 L120.922 1220.63 Z\" fill=\"#000000\" fill-rule=\"nonzero\" fill-opacity=\"1\" /><path clip-path=\"url(#clip680)\" d=\"M136.038 1191.95 L154.394 1191.95 L154.394 1195.88 L140.32 1195.88 L140.32 1204.35 Q141.339 1204.01 142.357 1203.84 Q143.376 1203.66 144.394 1203.66 Q150.181 1203.66 153.561 1206.83 Q156.941 1210 156.941 1215.42 Q156.941 1221 153.468 1224.1 Q149.996 1227.18 143.677 1227.18 Q141.501 1227.18 139.232 1226.81 Q136.987 1226.44 134.58 1225.7 L134.58 1221 Q136.663 1222.13 138.885 1222.69 Q141.107 1223.24 143.584 1223.24 Q147.589 1223.24 149.927 1221.14 Q152.265 1219.03 152.265 1215.42 Q152.265 1211.81 149.927 1209.7 Q147.589 1207.59 143.584 1207.59 Q141.709 1207.59 139.834 1208.01 Q137.982 1208.43 136.038 1209.31 L136.038 1191.95 Z\" fill=\"#000000\" fill-rule=\"nonzero\" fill-opacity=\"1\" /><path clip-path=\"url(#clip680)\" d=\"M99.765 852.557 Q96.1539 852.557 94.3252 856.122 Q92.5197 859.663 92.5197 866.793 Q92.5197 873.899 94.3252 877.464 Q96.1539 881.006 99.765 881.006 Q103.399 881.006 105.205 877.464 Q107.033 873.899 107.033 866.793 Q107.033 859.663 105.205 856.122 Q103.399 852.557 99.765 852.557 M99.765 848.853 Q105.575 848.853 108.631 853.46 Q111.709 858.043 111.709 866.793 Q111.709 875.52 108.631 880.126 Q105.575 884.71 99.765 884.71 Q93.9549 884.71 90.8762 880.126 Q87.8206 875.52 87.8206 866.793 Q87.8206 858.043 90.8762 853.46 Q93.9549 848.853 99.765 848.853 Z\" fill=\"#000000\" fill-rule=\"nonzero\" fill-opacity=\"1\" /><path clip-path=\"url(#clip680)\" d=\"M119.927 878.159 L124.811 878.159 L124.811 884.038 L119.927 884.038 L119.927 878.159 Z\" fill=\"#000000\" fill-rule=\"nonzero\" fill-opacity=\"1\" /><path clip-path=\"url(#clip680)\" d=\"M144.996 852.557 Q141.385 852.557 139.556 856.122 Q137.751 859.663 137.751 866.793 Q137.751 873.899 139.556 877.464 Q141.385 881.006 144.996 881.006 Q148.63 881.006 150.436 877.464 Q152.265 873.899 152.265 866.793 Q152.265 859.663 150.436 856.122 Q148.63 852.557 144.996 852.557 M144.996 848.853 Q150.806 848.853 153.862 853.46 Q156.941 858.043 156.941 866.793 Q156.941 875.52 153.862 880.126 Q150.806 884.71 144.996 884.71 Q139.186 884.71 136.107 880.126 Q133.052 875.52 133.052 866.793 Q133.052 858.043 136.107 853.46 Q139.186 848.853 144.996 848.853 Z\" fill=\"#000000\" fill-rule=\"nonzero\" fill-opacity=\"1\" /><path clip-path=\"url(#clip680)\" d=\"M100.76 510.089 Q97.1493 510.089 95.3206 513.654 Q93.515 517.195 93.515 524.325 Q93.515 531.431 95.3206 534.996 Q97.1493 538.538 100.76 538.538 Q104.395 538.538 106.2 534.996 Q108.029 531.431 108.029 524.325 Q108.029 517.195 106.2 513.654 Q104.395 510.089 100.76 510.089 M100.76 506.385 Q106.571 506.385 109.626 510.992 Q112.705 515.575 112.705 524.325 Q112.705 533.052 109.626 537.658 Q106.571 542.242 100.76 542.242 Q94.9502 542.242 91.8715 537.658 Q88.816 533.052 88.816 524.325 Q88.816 515.575 91.8715 510.992 Q94.9502 506.385 100.76 506.385 Z\" fill=\"#000000\" fill-rule=\"nonzero\" fill-opacity=\"1\" /><path clip-path=\"url(#clip680)\" d=\"M120.922 535.691 L125.807 535.691 L125.807 541.57 L120.922 541.57 L120.922 535.691 Z\" fill=\"#000000\" fill-rule=\"nonzero\" fill-opacity=\"1\" /><path clip-path=\"url(#clip680)\" d=\"M136.038 507.01 L154.394 507.01 L154.394 510.945 L140.32 510.945 L140.32 519.418 Q141.339 519.07 142.357 518.908 Q143.376 518.723 144.394 518.723 Q150.181 518.723 153.561 521.894 Q156.941 525.066 156.941 530.482 Q156.941 536.061 153.468 539.163 Q149.996 542.242 143.677 542.242 Q141.501 542.242 139.232 541.871 Q136.987 541.501 134.58 540.76 L134.58 536.061 Q136.663 537.195 138.885 537.751 Q141.107 538.306 143.584 538.306 Q147.589 538.306 149.927 536.2 Q152.265 534.093 152.265 530.482 Q152.265 526.871 149.927 524.765 Q147.589 522.658 143.584 522.658 Q141.709 522.658 139.834 523.075 Q137.982 523.492 136.038 524.371 L136.038 507.01 Z\" fill=\"#000000\" fill-rule=\"nonzero\" fill-opacity=\"1\" /><path clip-path=\"url(#clip680)\" d=\"M90.5752 195.167 L98.2141 195.167 L98.2141 168.801 L89.904 170.468 L89.904 166.209 L98.1678 164.542 L102.844 164.542 L102.844 195.167 L110.483 195.167 L110.483 199.102 L90.5752 199.102 L90.5752 195.167 Z\" fill=\"#000000\" fill-rule=\"nonzero\" fill-opacity=\"1\" /><path clip-path=\"url(#clip680)\" d=\"M119.927 193.223 L124.811 193.223 L124.811 199.102 L119.927 199.102 L119.927 193.223 Z\" fill=\"#000000\" fill-rule=\"nonzero\" fill-opacity=\"1\" /><path clip-path=\"url(#clip680)\" d=\"M144.996 167.621 Q141.385 167.621 139.556 171.186 Q137.751 174.727 137.751 181.857 Q137.751 188.963 139.556 192.528 Q141.385 196.07 144.996 196.07 Q148.63 196.07 150.436 192.528 Q152.265 188.963 152.265 181.857 Q152.265 174.727 150.436 171.186 Q148.63 167.621 144.996 167.621 M144.996 163.917 Q150.806 163.917 153.862 168.524 Q156.941 173.107 156.941 181.857 Q156.941 190.584 153.862 195.19 Q150.806 199.774 144.996 199.774 Q139.186 199.774 136.107 195.19 Q133.052 190.584 133.052 181.857 Q133.052 173.107 136.107 168.524 Q139.186 163.917 144.996 163.917 Z\" fill=\"#000000\" fill-rule=\"nonzero\" fill-opacity=\"1\" /><polyline clip-path=\"url(#clip682)\" style=\"stroke:#009af9; stroke-linecap:round; stroke-linejoin:round; stroke-width:4; stroke-opacity:1; fill:none\" points=\"254.067,872.807 274.649,824.451 295.23,776.381 315.812,728.771 336.393,681.792 356.975,635.607 377.556,590.377 398.137,546.261 418.719,503.409 439.3,461.974 459.882,422.101 480.463,383.932 501.045,347.604 521.626,313.247 542.207,280.984 562.789,250.929 583.37,223.186 603.952,197.849 624.533,175 645.115,154.71 665.696,137.038 686.278,122.033 706.859,109.733 727.44,100.163 748.022,93.3428 768.603,89.2802 789.185,87.9763 809.766,89.4245 830.348,93.6114 850.929,100.517 871.51,110.114 892.092,122.37 912.673,137.243 933.255,154.685 953.836,174.638 974.417,197.034 994.999,221.794 1015.58,248.827 1036.16,278.028 1056.74,309.278 1077.32,342.447 1097.91,377.387 1118.49,413.94 1139.07,451.935 1159.65,491.193 1180.23,531.525 1200.81,572.738 1221.39,614.637 1241.98,657.026 1262.56,699.715 1283.14,742.517 1303.72,785.255 1324.3,827.76 1344.88,869.877 1365.46,911.459 1386.05,952.371 1406.63,992.487 1427.21,1031.69 1447.79,1069.86 1468.37,1106.89 1488.95,1142.67 1509.53,1177.08 1530.12,1209.99 1550.7,1241.28 1571.28,1270.83 1591.86,1298.49 1612.44,1324.12 1633.02,1347.61 1653.6,1368.81 1674.19,1387.61 1694.77,1403.92 1715.35,1417.63 1735.93,1428.68 1756.51,1437.03 1777.09,1442.65 1797.67,1445.54 1818.26,1445.72 1838.84,1443.22 1859.42,1438.1 1880,1430.44 1900.58,1420.33 1921.16,1407.86 1941.74,1393.16 1962.33,1376.33 1982.91,1357.52 2003.49,1336.84 2024.07,1314.45 2044.65,1290.48 2065.23,1265.07 2085.81,1238.36 2106.4,1210.5 2126.98,1181.62 2147.56,1151.86 2168.14,1121.35 2188.72,1090.22 2209.3,1058.6 2229.88,1026.6 2250.47,994.35 2271.05,961.946 2291.63,929.495 \"/>\n",
       "<path clip-path=\"url(#clip680)\" d=\"M1521.43 198.898 L2280.76 198.898 L2280.76 95.2176 L1521.43 95.2176  Z\" fill=\"#ffffff\" fill-rule=\"evenodd\" fill-opacity=\"1\"/>\n",
       "<polyline clip-path=\"url(#clip680)\" style=\"stroke:#000000; stroke-linecap:round; stroke-linejoin:round; stroke-width:4; stroke-opacity:1; fill:none\" points=\"1521.43,198.898 2280.76,198.898 2280.76,95.2176 1521.43,95.2176 1521.43,198.898 \"/>\n",
       "<polyline clip-path=\"url(#clip680)\" style=\"stroke:#009af9; stroke-linecap:round; stroke-linejoin:round; stroke-width:4; stroke-opacity:1; fill:none\" points=\"1545.42,147.058 1689.41,147.058 \"/>\n",
       "<path clip-path=\"url(#clip680)\" d=\"M1713.41 129.778 L1719.71 129.778 L1735.03 158.689 L1735.03 129.778 L1739.57 129.778 L1739.57 164.338 L1733.27 164.338 L1717.95 135.426 L1717.95 164.338 L1713.41 164.338 L1713.41 129.778 Z\" fill=\"#000000\" fill-rule=\"nonzero\" fill-opacity=\"1\" /><path clip-path=\"url(#clip680)\" d=\"M1770.86 150.31 L1770.86 152.393 L1751.28 152.393 Q1751.56 156.791 1753.92 159.106 Q1756.3 161.398 1760.54 161.398 Q1762.99 161.398 1765.29 160.796 Q1767.6 160.194 1769.87 158.99 L1769.87 163.018 Q1767.58 163.99 1765.17 164.5 Q1762.76 165.009 1760.29 165.009 Q1754.08 165.009 1750.45 161.398 Q1746.84 157.787 1746.84 151.629 Q1746.84 145.264 1750.26 141.537 Q1753.71 137.787 1759.54 137.787 Q1764.78 137.787 1767.81 141.166 Q1770.86 144.523 1770.86 150.31 M1766.6 149.06 Q1766.56 145.565 1764.64 143.481 Q1762.74 141.398 1759.59 141.398 Q1756.03 141.398 1753.87 143.412 Q1751.74 145.426 1751.42 149.083 L1766.6 149.06 Z\" fill=\"#000000\" fill-rule=\"nonzero\" fill-opacity=\"1\" /><path clip-path=\"url(#clip680)\" d=\"M1777.41 154.106 L1777.41 138.412 L1781.67 138.412 L1781.67 153.944 Q1781.67 157.625 1783.11 159.476 Q1784.54 161.305 1787.41 161.305 Q1790.86 161.305 1792.85 159.106 Q1794.87 156.907 1794.87 153.111 L1794.87 138.412 L1799.13 138.412 L1799.13 164.338 L1794.87 164.338 L1794.87 160.356 Q1793.32 162.717 1791.26 163.875 Q1789.22 165.009 1786.51 165.009 Q1782.04 165.009 1779.73 162.231 Q1777.41 159.453 1777.41 154.106 M1788.13 137.787 L1788.13 137.787 Z\" fill=\"#000000\" fill-rule=\"nonzero\" fill-opacity=\"1\" /><path clip-path=\"url(#clip680)\" d=\"M1822.92 142.393 Q1822.21 141.977 1821.35 141.791 Q1820.52 141.583 1819.5 141.583 Q1815.89 141.583 1813.94 143.944 Q1812.02 146.282 1812.02 150.68 L1812.02 164.338 L1807.74 164.338 L1807.74 138.412 L1812.02 138.412 L1812.02 142.44 Q1813.36 140.078 1815.52 138.944 Q1817.67 137.787 1820.75 137.787 Q1821.19 137.787 1821.72 137.856 Q1822.25 137.903 1822.9 138.018 L1822.92 142.393 Z\" fill=\"#000000\" fill-rule=\"nonzero\" fill-opacity=\"1\" /><path clip-path=\"url(#clip680)\" d=\"M1839.17 151.305 Q1834.01 151.305 1832.02 152.486 Q1830.03 153.666 1830.03 156.514 Q1830.03 158.782 1831.51 160.125 Q1833.02 161.444 1835.59 161.444 Q1839.13 161.444 1841.26 158.944 Q1843.41 156.421 1843.41 152.254 L1843.41 151.305 L1839.17 151.305 M1847.67 149.546 L1847.67 164.338 L1843.41 164.338 L1843.41 160.402 Q1841.95 162.763 1839.78 163.898 Q1837.6 165.009 1834.45 165.009 Q1830.47 165.009 1828.11 162.787 Q1825.77 160.541 1825.77 156.791 Q1825.77 152.416 1828.69 150.194 Q1831.63 147.972 1837.44 147.972 L1843.41 147.972 L1843.41 147.555 Q1843.41 144.615 1841.47 143.018 Q1839.54 141.398 1836.05 141.398 Q1833.83 141.398 1831.72 141.93 Q1829.61 142.463 1827.67 143.527 L1827.67 139.592 Q1830.01 138.69 1832.21 138.25 Q1834.41 137.787 1836.49 137.787 Q1842.11 137.787 1844.89 140.703 Q1847.67 143.62 1847.67 149.546 Z\" fill=\"#000000\" fill-rule=\"nonzero\" fill-opacity=\"1\" /><path clip-path=\"url(#clip680)\" d=\"M1856.44 128.319 L1860.7 128.319 L1860.7 164.338 L1856.44 164.338 L1856.44 128.319 Z\" fill=\"#000000\" fill-rule=\"nonzero\" fill-opacity=\"1\" /><path clip-path=\"url(#clip680)\" d=\"M1884.87 129.778 L1891.16 129.778 L1906.49 158.689 L1906.49 129.778 L1911.03 129.778 L1911.03 164.338 L1904.73 164.338 L1889.4 135.426 L1889.4 164.338 L1884.87 164.338 L1884.87 129.778 Z\" fill=\"#000000\" fill-rule=\"nonzero\" fill-opacity=\"1\" /><path clip-path=\"url(#clip680)\" d=\"M1942.32 150.31 L1942.32 152.393 L1922.74 152.393 Q1923.02 156.791 1925.38 159.106 Q1927.76 161.398 1932 161.398 Q1934.45 161.398 1936.74 160.796 Q1939.06 160.194 1941.33 158.99 L1941.33 163.018 Q1939.03 163.99 1936.63 164.5 Q1934.22 165.009 1931.74 165.009 Q1925.54 165.009 1921.9 161.398 Q1918.29 157.787 1918.29 151.629 Q1918.29 145.264 1921.72 141.537 Q1925.17 137.787 1931 137.787 Q1936.23 137.787 1939.27 141.166 Q1942.32 144.523 1942.32 150.31 M1938.06 149.06 Q1938.02 145.565 1936.09 143.481 Q1934.2 141.398 1931.05 141.398 Q1927.48 141.398 1925.33 143.412 Q1923.2 145.426 1922.88 149.083 L1938.06 149.06 Z\" fill=\"#000000\" fill-rule=\"nonzero\" fill-opacity=\"1\" /><path clip-path=\"url(#clip680)\" d=\"M1953.52 131.051 L1953.52 138.412 L1962.3 138.412 L1962.3 141.722 L1953.52 141.722 L1953.52 155.796 Q1953.52 158.967 1954.38 159.87 Q1955.26 160.773 1957.92 160.773 L1962.3 160.773 L1962.3 164.338 L1957.92 164.338 Q1952.99 164.338 1951.12 162.509 Q1949.24 160.657 1949.24 155.796 L1949.24 141.722 L1946.12 141.722 L1946.12 138.412 L1949.24 138.412 L1949.24 131.051 L1953.52 131.051 Z\" fill=\"#000000\" fill-rule=\"nonzero\" fill-opacity=\"1\" /><path clip-path=\"url(#clip680)\" d=\"M1965.42 138.412 L1969.68 138.412 L1975.01 158.643 L1980.31 138.412 L1985.33 138.412 L1990.65 158.643 L1995.96 138.412 L2000.21 138.412 L1993.43 164.338 L1988.41 164.338 L1982.83 143.088 L1977.23 164.338 L1972.21 164.338 L1965.42 138.412 Z\" fill=\"#000000\" fill-rule=\"nonzero\" fill-opacity=\"1\" /><path clip-path=\"url(#clip680)\" d=\"M2016.72 141.398 Q2013.29 141.398 2011.3 144.083 Q2009.31 146.745 2009.31 151.398 Q2009.31 156.051 2011.28 158.736 Q2013.27 161.398 2016.72 161.398 Q2020.12 161.398 2022.11 158.713 Q2024.1 156.027 2024.1 151.398 Q2024.1 146.791 2022.11 144.106 Q2020.12 141.398 2016.72 141.398 M2016.72 137.787 Q2022.27 137.787 2025.45 141.398 Q2028.62 145.009 2028.62 151.398 Q2028.62 157.764 2025.45 161.398 Q2022.27 165.009 2016.72 165.009 Q2011.14 165.009 2007.97 161.398 Q2004.82 157.764 2004.82 151.398 Q2004.82 145.009 2007.97 141.398 Q2011.14 137.787 2016.72 137.787 Z\" fill=\"#000000\" fill-rule=\"nonzero\" fill-opacity=\"1\" /><path clip-path=\"url(#clip680)\" d=\"M2050.7 142.393 Q2049.98 141.977 2049.13 141.791 Q2048.29 141.583 2047.27 141.583 Q2043.66 141.583 2041.72 143.944 Q2039.8 146.282 2039.8 150.68 L2039.8 164.338 L2035.52 164.338 L2035.52 138.412 L2039.8 138.412 L2039.8 142.44 Q2041.14 140.078 2043.29 138.944 Q2045.45 137.787 2048.52 137.787 Q2048.96 137.787 2049.5 137.856 Q2050.03 137.903 2050.68 138.018 L2050.7 142.393 Z\" fill=\"#000000\" fill-rule=\"nonzero\" fill-opacity=\"1\" /><path clip-path=\"url(#clip680)\" d=\"M2055.01 128.319 L2059.29 128.319 L2059.29 149.592 L2072 138.412 L2077.44 138.412 L2063.69 150.541 L2078.02 164.338 L2072.46 164.338 L2059.29 151.676 L2059.29 164.338 L2055.01 164.338 L2055.01 128.319 Z\" fill=\"#000000\" fill-rule=\"nonzero\" fill-opacity=\"1\" /><path clip-path=\"url(#clip680)\" d=\"M2111.9 132.949 Q2106.81 132.949 2103.8 136.745 Q2100.82 140.541 2100.82 147.092 Q2100.82 153.62 2103.8 157.416 Q2106.81 161.213 2111.9 161.213 Q2117 161.213 2119.96 157.416 Q2122.95 153.62 2122.95 147.092 Q2122.95 140.541 2119.96 136.745 Q2117 132.949 2111.9 132.949 M2111.9 129.153 Q2119.17 129.153 2123.52 134.037 Q2127.88 138.898 2127.88 147.092 Q2127.88 155.264 2123.52 160.148 Q2119.17 165.009 2111.9 165.009 Q2104.61 165.009 2100.24 160.148 Q2095.89 155.287 2095.89 147.092 Q2095.89 138.898 2100.24 134.037 Q2104.61 129.153 2111.9 129.153 Z\" fill=\"#000000\" fill-rule=\"nonzero\" fill-opacity=\"1\" /><path clip-path=\"url(#clip680)\" d=\"M2134.57 154.106 L2134.57 138.412 L2138.82 138.412 L2138.82 153.944 Q2138.82 157.625 2140.26 159.476 Q2141.7 161.305 2144.57 161.305 Q2148.01 161.305 2150.01 159.106 Q2152.02 156.907 2152.02 153.111 L2152.02 138.412 L2156.28 138.412 L2156.28 164.338 L2152.02 164.338 L2152.02 160.356 Q2150.47 162.717 2148.41 163.875 Q2146.37 165.009 2143.66 165.009 Q2139.2 165.009 2136.88 162.231 Q2134.57 159.453 2134.57 154.106 M2145.28 137.787 L2145.28 137.787 Z\" fill=\"#000000\" fill-rule=\"nonzero\" fill-opacity=\"1\" /><path clip-path=\"url(#clip680)\" d=\"M2169.26 131.051 L2169.26 138.412 L2178.04 138.412 L2178.04 141.722 L2169.26 141.722 L2169.26 155.796 Q2169.26 158.967 2170.12 159.87 Q2171 160.773 2173.66 160.773 L2178.04 160.773 L2178.04 164.338 L2173.66 164.338 Q2168.73 164.338 2166.86 162.509 Q2164.98 160.657 2164.98 155.796 L2164.98 141.722 L2161.86 141.722 L2161.86 138.412 L2164.98 138.412 L2164.98 131.051 L2169.26 131.051 Z\" fill=\"#000000\" fill-rule=\"nonzero\" fill-opacity=\"1\" /><path clip-path=\"url(#clip680)\" d=\"M2187.76 160.449 L2187.76 174.199 L2183.48 174.199 L2183.48 138.412 L2187.76 138.412 L2187.76 142.347 Q2189.1 140.032 2191.14 138.921 Q2193.2 137.787 2196.05 137.787 Q2200.77 137.787 2203.71 141.537 Q2206.67 145.287 2206.67 151.398 Q2206.67 157.509 2203.71 161.259 Q2200.77 165.009 2196.05 165.009 Q2193.2 165.009 2191.14 163.898 Q2189.1 162.763 2187.76 160.449 M2202.25 151.398 Q2202.25 146.699 2200.31 144.037 Q2198.38 141.352 2195.01 141.352 Q2191.63 141.352 2189.68 144.037 Q2187.76 146.699 2187.76 151.398 Q2187.76 156.097 2189.68 158.782 Q2191.63 161.444 2195.01 161.444 Q2198.38 161.444 2200.31 158.782 Q2202.25 156.097 2202.25 151.398 Z\" fill=\"#000000\" fill-rule=\"nonzero\" fill-opacity=\"1\" /><path clip-path=\"url(#clip680)\" d=\"M2213.29 154.106 L2213.29 138.412 L2217.55 138.412 L2217.55 153.944 Q2217.55 157.625 2218.99 159.476 Q2220.42 161.305 2223.29 161.305 Q2226.74 161.305 2228.73 159.106 Q2230.75 156.907 2230.75 153.111 L2230.75 138.412 L2235 138.412 L2235 164.338 L2230.75 164.338 L2230.75 160.356 Q2229.19 162.717 2227.13 163.875 Q2225.1 165.009 2222.39 165.009 Q2217.92 165.009 2215.61 162.231 Q2213.29 159.453 2213.29 154.106 M2224.01 137.787 L2224.01 137.787 Z\" fill=\"#000000\" fill-rule=\"nonzero\" fill-opacity=\"1\" /><path clip-path=\"url(#clip680)\" d=\"M2247.99 131.051 L2247.99 138.412 L2256.76 138.412 L2256.76 141.722 L2247.99 141.722 L2247.99 155.796 Q2247.99 158.967 2248.85 159.87 Q2249.73 160.773 2252.39 160.773 L2256.76 160.773 L2256.76 164.338 L2252.39 164.338 Q2247.46 164.338 2245.58 162.509 Q2243.71 160.657 2243.71 155.796 L2243.71 141.722 L2240.58 141.722 L2240.58 138.412 L2243.71 138.412 L2243.71 131.051 L2247.99 131.051 Z\" fill=\"#000000\" fill-rule=\"nonzero\" fill-opacity=\"1\" /></svg>\n"
      ]
     },
     "metadata": {},
     "output_type": "display_data"
    }
   ],
   "source": [
    "plot(Array(input_data)', Array(pred)', label=\"Neural Network Output\")"
   ]
  },
  {
   "cell_type": "code",
   "execution_count": null,
   "metadata": {},
   "outputs": [],
   "source": []
  }
 ],
 "metadata": {
  "kernelspec": {
   "display_name": "Julia 1.11.2",
   "language": "julia",
   "name": "julia-1.11"
  },
  "language_info": {
   "file_extension": ".jl",
   "mimetype": "application/julia",
   "name": "julia",
   "version": "1.11.2"
  }
 },
 "nbformat": 4,
 "nbformat_minor": 2
}
