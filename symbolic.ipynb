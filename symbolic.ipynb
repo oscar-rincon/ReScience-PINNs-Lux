{
 "cells": [
  {
   "cell_type": "code",
   "execution_count": 14,
   "metadata": {},
   "outputs": [
    {
     "data": {
      "text/latex": [
       "$$ \\begin{equation}\n",
       "\\frac{\\mathrm{d} \\sin\\left( x \\right)}{\\mathrm{d}x}\n",
       "\\end{equation}\n",
       " $$"
      ],
      "text/plain": [
       "Differential(x)(sin(x))"
      ]
     },
     "metadata": {},
     "output_type": "display_data"
    }
   ],
   "source": [
    "using Symbolics\n",
    "using Plots\n",
    "\n",
    "# Define a symbolic variable\n",
    "@variables x\n",
    "\n",
    "# Define the sine function\n",
    "f = sin(x)\n",
    "\n",
    "# Define the differential operator\n",
    "D = Differential(x)\n",
    "\n",
    "# Compute the derivative of the sine function\n",
    "df = D(f)\n",
    "\n",
    " "
   ]
  }
 ],
 "metadata": {
  "kernelspec": {
   "display_name": "Julia 1.11.2",
   "language": "julia",
   "name": "julia-1.11"
  },
  "language_info": {
   "file_extension": ".jl",
   "mimetype": "application/julia",
   "name": "julia",
   "version": "1.11.2"
  }
 },
 "nbformat": 4,
 "nbformat_minor": 2
}
