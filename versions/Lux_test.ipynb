{
 "cells": [
  {
   "cell_type": "code",
   "execution_count": 251,
   "metadata": {},
   "outputs": [
    {
     "data": {
      "text/plain": [
       "MersenneTwister(1)"
      ]
     },
     "metadata": {},
     "output_type": "display_data"
    }
   ],
   "source": [
    "using Lux, Random, ComponentArrays, TaylorDiff\n",
    "\n",
    "rng = MersenneTwister()\n",
    "Random.seed!(rng, 1)"
   ]
  },
  {
   "cell_type": "code",
   "execution_count": 92,
   "metadata": {},
   "outputs": [
    {
     "data": {
      "text/plain": [
       "2"
      ]
     },
     "metadata": {},
     "output_type": "display_data"
    }
   ],
   "source": [
    "const input = 2"
   ]
  },
  {
   "cell_type": "code",
   "execution_count": 113,
   "metadata": {},
   "outputs": [
    {
     "data": {
      "text/plain": [
       "Chain(\n",
       "    layer_1 = Dense(2 => 16, exp),      \u001b[90m# 48 parameters\u001b[39m\n",
       "    layer_2 = Dense(16 => 16, exp),     \u001b[90m# 272 parameters\u001b[39m\n",
       "    layer_3 = Dense(16 => 1),           \u001b[90m# 17 parameters\u001b[39m\n",
       "    layer_4 = WrappedFunction(first),\n",
       ") \u001b[90m        # Total: \u001b[39m337 parameters,\n",
       "\u001b[90m          #        plus \u001b[39m0 states."
      ]
     },
     "metadata": {},
     "output_type": "display_data"
    }
   ],
   "source": [
    "model = Chain(Dense(input => hidden, exp),\n",
    "    Dense(hidden => hidden, exp),\n",
    "    Dense(hidden => 1),\n",
    "    first)\n",
    "#model = Chain(Dense(2 => 30, relu), Dense(30 => 30, relu), Dense(30 => 1))\n"
   ]
  },
  {
   "cell_type": "code",
   "execution_count": 114,
   "metadata": {},
   "outputs": [
    {
     "data": {
      "text/plain": [
       "\u001b[0mComponentVector{Float32}(layer_1 = (weight = Float32[-1.0811747 0.9120898; -0.10964308 -0.41804138; … ; -0.506154 1.0804072f-5; 1.1675979 -0.07285434], bias = Float32[0.2490593, -0.4806301, 0.6780589, 0.0016063007, -0.522484, -0.6805993, -0.21060704, 0.50937545, 0.33639288, 0.22010256, -0.12450862, 0.3884359, 0.5799375, 0.39842856, -0.6958851, 0.07831879]), layer_2 = (weight = Float32[0.28811473 0.36900693 … -0.37211332 0.019529067; 0.14447463 -0.24254143 … -0.29063964 0.09696433; … ; -0.39559042 0.25605455 … -0.063562825 -0.16985989; 0.1261293 -0.20957911 … 0.052887935 0.37911317], bias = Float32[-0.19076955, -0.029651344, 0.23485127, -0.21793231, 0.21854055, -0.024576545, -0.13121834, 0.101620615, 0.01067999, 0.07822749, 0.13287592, -0.03696522, -0.19945842, 0.22354248, 0.085831076, -0.14627987]), layer_3 = (weight = Float32[-0.4188601 -0.39381167 … 0.086255476 -0.30063578], bias = Float32[-0.13529116]), layer_4 = Float32[])"
      ]
     },
     "metadata": {},
     "output_type": "display_data"
    }
   ],
   "source": [
    "ps, st = Lux.setup(Xoshiro(0), model)\n",
    "ps = ps |> ComponentArray"
   ]
  },
  {
   "cell_type": "code",
   "execution_count": 115,
   "metadata": {},
   "outputs": [
    {
     "data": {
      "text/plain": [
       "2-element Vector{Float32}:\n",
       " 0.70260113\n",
       " 0.19438636"
      ]
     },
     "metadata": {},
     "output_type": "display_data"
    }
   ],
   "source": [
    "x = rand(Float32, input)\n",
    "#x = collect(range(0f0, 5f0, length=50))'\n"
   ]
  },
  {
   "cell_type": "code",
   "execution_count": 116,
   "metadata": {},
   "outputs": [
    {
     "data": {
      "text/plain": [
       "-28.973803f0"
      ]
     },
     "metadata": {},
     "output_type": "display_data"
    }
   ],
   "source": [
    "u = Lux.apply(model, x, ps, st)[1]"
   ]
  },
  {
   "cell_type": "code",
   "execution_count": 118,
   "metadata": {},
   "outputs": [
    {
     "data": {
      "text/plain": [
       "-186.615f0"
      ]
     },
     "metadata": {},
     "output_type": "display_data"
    }
   ],
   "source": [
    "function trial(model, x, ps, st)\n",
    "    u, st = Lux.apply(model, x, ps, st)\n",
    "    return u\n",
    "end\n",
    "\n",
    "f(x) = trial(model, x, ps, st)\n",
    "\n",
    "TaylorDiff. derivative(f, x, Float32[1, 0], Val(2))"
   ]
  },
  {
   "cell_type": "code",
   "execution_count": 119,
   "metadata": {},
   "outputs": [
    {
     "data": {
      "text/plain": [
       "-35.121586f0"
      ]
     },
     "metadata": {},
     "output_type": "display_data"
    }
   ],
   "source": [
    "using Lux, Random, ComponentArrays, TaylorDiff\n",
    "\n",
    "const input = 2\n",
    "\n",
    "model = Chain(Dense(input => hidden, exp),\n",
    "    Dense(hidden => hidden, exp),\n",
    "    Dense(hidden => 1),\n",
    "    first)\n",
    "\n",
    "ps, st = Lux.setup(Xoshiro(0), model)\n",
    "ps = ps |> ComponentArray    \n",
    "x = rand(Float32, input)\n",
    "u = Lux.apply(model, x, ps, st)[1]\n",
    "\n",
    "function trial(model, x, ps, st)\n",
    "    u, st = Lux.apply(model, x, ps, st)\n",
    "    return u\n",
    "end\n",
    "\n",
    "f(x) = trial(model, x, ps, st)\n",
    "\n",
    "TaylorDiff. derivative(f, x, Float32[1, 0], Val(2))"
   ]
  },
  {
   "cell_type": "code",
   "execution_count": 252,
   "metadata": {},
   "outputs": [
    {
     "data": {
      "text/plain": [
       "1×50 Matrix{Float32}:\n",
       " -2.16463  0.73768  1.67917  0.561669  …  1.63091  1.63091  1.63818  1.66937"
      ]
     },
     "metadata": {},
     "output_type": "display_data"
    }
   ],
   "source": [
    "using Lux, Random, ComponentArrays, TaylorDiff\n",
    "\n",
    "const input = 1\n",
    "const hidden = 16  # Define the number of hidden units\n",
    "\n",
    "# Define the model\n",
    "model = Chain(Dense(1 => 30, relu), Dense(30 => 30, relu), Dense(30 => 1)) \n",
    "\n",
    "# Initialize model parameters\n",
    "ps, st = Lux.setup(Xoshiro(0), model)\n",
    "ps = ps |> ComponentArray\n",
    "\n",
    "# Function to evaluate the model\n",
    "function trial(model, x, ps, st)\n",
    "    u, st = Lux.apply(model, x, ps, st)\n",
    "    return u\n",
    "end\n",
    "\n",
    "f(x) = trial(model, x, ps, st)\n",
    "\n",
    " \n",
    "x = collect(range(0f0, 5f0, 50))\n",
    "x = reshape(x, 1, :)\n",
    "y = reshape(Float32.(sin.(x)), 1, 50)\n",
    "data = (x, y)\n",
    "\n",
    "\n",
    "TaylorDiff.derivative(f, x, Float32.(ones(size(x))), Val(1)) "
   ]
  },
  {
   "cell_type": "code",
   "execution_count": 247,
   "metadata": {},
   "outputs": [
    {
     "data": {
      "text/plain": [
       "1×50 adjoint(::Vector{Float32}) with eltype Float32:\n",
       " 0.0  0.102041  0.204082  0.306122  …  4.69388  4.79592  4.89796  5.0"
      ]
     },
     "metadata": {},
     "output_type": "display_data"
    }
   ],
   "source": [
    "x = collect(range(0f0, 5f0, length=50))'\n",
    " "
   ]
  },
  {
   "cell_type": "code",
   "execution_count": 237,
   "metadata": {},
   "outputs": [
    {
     "data": {
      "text/plain": [
       "1×2 Matrix{Float32}:\n",
       " 1.0  1.0"
      ]
     },
     "metadata": {},
     "output_type": "display_data"
    }
   ],
   "source": [
    "x"
   ]
  },
  {
   "cell_type": "code",
   "execution_count": 241,
   "metadata": {},
   "outputs": [
    {
     "data": {
      "text/plain": [
       "1×50 Matrix{Float32}:\n",
       " 0.0  0.102041  0.204082  0.306122  …  4.69388  4.79592  4.89796  5.0"
      ]
     },
     "metadata": {},
     "output_type": "display_data"
    }
   ],
   "source": [
    "x = collect(range(0f0, 5f0, length=50))\n",
    "x = reshape(x, 1, :)"
   ]
  },
  {
   "cell_type": "code",
   "execution_count": 190,
   "metadata": {},
   "outputs": [
    {
     "ename": "MethodError",
     "evalue": "MethodError: no method matching (::Dense{typeof(tanh), Int64, Int64, Nothing, Nothing, Static.True})(::TaylorScalar{Int64, 1}, ::ComponentVector{Float32, SubArray{Float32, 1, Vector{Float32}, Tuple{UnitRange{Int64}}, true}, Tuple{Axis{(weight = ViewAxis(1:15, ShapedAxis((15, 1))), bias = 16:30)}}}, ::@NamedTuple{})\nThe object of type `Dense{typeof(tanh), Int64, Int64, Nothing, Nothing, Static.True}` exists, but no method is defined for this combination of argument types when trying to treat it as a callable object.\n\nClosest candidates are:\n  (::Dense)(!Matched::AbstractArray, ::Any, ::NamedTuple)\n   @ Lux ~/.julia/packages/Lux/CXGnc/src/layers/basic.jl:339\n",
     "output_type": "error",
     "traceback": [
      "MethodError: no method matching (::Dense{typeof(tanh), Int64, Int64, Nothing, Nothing, Static.True})(::TaylorScalar{Int64, 1}, ::ComponentVector{Float32, SubArray{Float32, 1, Vector{Float32}, Tuple{UnitRange{Int64}}, true}, Tuple{Axis{(weight = ViewAxis(1:15, ShapedAxis((15, 1))), bias = 16:30)}}}, ::@NamedTuple{})\n",
      "The object of type `Dense{typeof(tanh), Int64, Int64, Nothing, Nothing, Static.True}` exists, but no method is defined for this combination of argument types when trying to treat it as a callable object.\n",
      "\n",
      "Closest candidates are:\n",
      "  (::Dense)(!Matched::AbstractArray, ::Any, ::NamedTuple)\n",
      "   @ Lux ~/.julia/packages/Lux/CXGnc/src/layers/basic.jl:339\n",
      "\n",
      "\n",
      "Stacktrace:\n",
      "  [1] apply\n",
      "    @ ~/.julia/packages/LuxCore/GlbG3/src/LuxCore.jl:155 [inlined]\n",
      "  [2] macro expansion\n",
      "    @ ~/.julia/packages/Lux/CXGnc/src/layers/containers.jl:0 [inlined]\n",
      "  [3] applychain(layers::@NamedTuple{layer_1::Dense{typeof(tanh), Int64, Int64, Nothing, Nothing, Static.True}, layer_2::Dense{typeof(tanh), Int64, Int64, Nothing, Nothing, Static.True}, layer_3::Dense{typeof(identity), Int64, Int64, Nothing, Nothing, Static.True}}, x::TaylorScalar{Int64, 1}, ps::ComponentVector{Float32, Vector{Float32}, Tuple{Axis{(layer_1 = ViewAxis(1:30, Axis(weight = ViewAxis(1:15, ShapedAxis((15, 1))), bias = 16:30)), layer_2 = ViewAxis(31:270, Axis(weight = ViewAxis(1:225, ShapedAxis((15, 15))), bias = 226:240)), layer_3 = ViewAxis(271:286, Axis(weight = ViewAxis(1:15, ShapedAxis((1, 15))), bias = 16:16)))}}}, st::@NamedTuple{layer_1::@NamedTuple{}, layer_2::@NamedTuple{}, layer_3::@NamedTuple{}})\n",
      "    @ Lux ~/.julia/packages/Lux/CXGnc/src/layers/containers.jl:482\n",
      "  [4] (::Chain{@NamedTuple{layer_1::Dense{typeof(tanh), Int64, Int64, Nothing, Nothing, Static.True}, layer_2::Dense{typeof(tanh), Int64, Int64, Nothing, Nothing, Static.True}, layer_3::Dense{typeof(identity), Int64, Int64, Nothing, Nothing, Static.True}}, Nothing})(x::TaylorScalar{Int64, 1}, ps::ComponentVector{Float32, Vector{Float32}, Tuple{Axis{(layer_1 = ViewAxis(1:30, Axis(weight = ViewAxis(1:15, ShapedAxis((15, 1))), bias = 16:30)), layer_2 = ViewAxis(31:270, Axis(weight = ViewAxis(1:225, ShapedAxis((15, 15))), bias = 226:240)), layer_3 = ViewAxis(271:286, Axis(weight = ViewAxis(1:15, ShapedAxis((1, 15))), bias = 16:16)))}}}, st::@NamedTuple{layer_1::@NamedTuple{}, layer_2::@NamedTuple{}, layer_3::@NamedTuple{}})\n",
      "    @ Lux ~/.julia/packages/Lux/CXGnc/src/layers/containers.jl:480\n",
      "  [5] apply(model::Chain{@NamedTuple{layer_1::Dense{typeof(tanh), Int64, Int64, Nothing, Nothing, Static.True}, layer_2::Dense{typeof(tanh), Int64, Int64, Nothing, Nothing, Static.True}, layer_3::Dense{typeof(identity), Int64, Int64, Nothing, Nothing, Static.True}}, Nothing}, x::TaylorScalar{Int64, 1}, ps::ComponentVector{Float32, Vector{Float32}, Tuple{Axis{(layer_1 = ViewAxis(1:30, Axis(weight = ViewAxis(1:15, ShapedAxis((15, 1))), bias = 16:30)), layer_2 = ViewAxis(31:270, Axis(weight = ViewAxis(1:225, ShapedAxis((15, 15))), bias = 226:240)), layer_3 = ViewAxis(271:286, Axis(weight = ViewAxis(1:15, ShapedAxis((1, 15))), bias = 16:16)))}}}, st::@NamedTuple{layer_1::@NamedTuple{}, layer_2::@NamedTuple{}, layer_3::@NamedTuple{}})\n",
      "    @ LuxCore ~/.julia/packages/LuxCore/GlbG3/src/LuxCore.jl:155\n",
      "  [6] trial(model::Chain{@NamedTuple{layer_1::Dense{typeof(tanh), Int64, Int64, Nothing, Nothing, Static.True}, layer_2::Dense{typeof(tanh), Int64, Int64, Nothing, Nothing, Static.True}, layer_3::Dense{typeof(identity), Int64, Int64, Nothing, Nothing, Static.True}}, Nothing}, x::TaylorScalar{Int64, 1}, ps::ComponentVector{Float32, Vector{Float32}, Tuple{Axis{(layer_1 = ViewAxis(1:30, Axis(weight = ViewAxis(1:15, ShapedAxis((15, 1))), bias = 16:30)), layer_2 = ViewAxis(31:270, Axis(weight = ViewAxis(1:225, ShapedAxis((15, 15))), bias = 226:240)), layer_3 = ViewAxis(271:286, Axis(weight = ViewAxis(1:15, ShapedAxis((1, 15))), bias = 16:16)))}}}, st::@NamedTuple{layer_1::@NamedTuple{}, layer_2::@NamedTuple{}, layer_3::@NamedTuple{}})\n",
      "    @ Main ~/ReScience-PINNs-Lux/jl_notebook_cell_df34fa98e69747e1a8f8a730347b8e2f_X15sdnNjb2RlLXJlbW90ZQ==.jl:20\n",
      "  [7] f(x::TaylorScalar{Int64, 1})\n",
      "    @ Main ~/ReScience-PINNs-Lux/jl_notebook_cell_df34fa98e69747e1a8f8a730347b8e2f_X15sdnNjb2RlLXJlbW90ZQ==.jl:25\n",
      "  [8] derivatives\n",
      "    @ ~/.julia/packages/TaylorDiff/hFSFr/src/derivative.jl:41 [inlined]\n",
      "  [9] derivative\n",
      "    @ ~/.julia/packages/TaylorDiff/hFSFr/src/derivative.jl:16 [inlined]\n",
      " [10] _broadcast_getindex_evalf\n",
      "    @ ./broadcast.jl:673 [inlined]\n",
      " [11] _broadcast_getindex\n",
      "    @ ./broadcast.jl:646 [inlined]\n",
      " [12] getindex\n",
      "    @ ./broadcast.jl:605 [inlined]\n",
      " [13] copy\n",
      "    @ ./broadcast.jl:906 [inlined]\n",
      " [14] materialize(bc::Base.Broadcast.Broadcasted{Base.Broadcast.DefaultArrayStyle{2}, Nothing, typeof(derivative), Tuple{Base.RefValue{typeof(f)}, Matrix{Int64}, Base.RefValue{Val{1}}}})\n",
      "    @ Base.Broadcast ./broadcast.jl:867\n",
      " [15] top-level scope\n",
      "    @ ~/ReScience-PINNs-Lux/jl_notebook_cell_df34fa98e69747e1a8f8a730347b8e2f_X15sdnNjb2RlLXJlbW90ZQ==.jl:28"
     ]
    }
   ],
   "source": [
    "using Lux, Random, ComponentArrays, TaylorDiff\n",
    "\n",
    "# Define the input and target\n",
    "x = [2 0; 0 1]    # Generates a (2x10) input\n",
    "target = rand(Float32, 1, 10)  # Target values with shape (1x10)\n",
    "\n",
    "# Define the model\n",
    "model = Chain(\n",
    "    Dense(1 => 15, tanh),\n",
    "    Dense(15 => 15, tanh),\n",
    "    Dense(15 => 1)\n",
    ")\n",
    "\n",
    "# Initialize model parameters and state\n",
    "ps, st = Lux.setup(Xoshiro(2), model)\n",
    "ps = ps |> ComponentArray\n",
    "\n",
    "# Function to evaluate the model\n",
    "function trial(model, x, ps, st)\n",
    "    u, st = Lux.apply(model, x, ps, st)\n",
    "    return u\n",
    "end\n",
    "\n",
    "# Wrapper function for single input\n",
    "f(x) = trial(model, x, ps, st)\n",
    "\n",
    "# Compute the derivative of the sum of outputs with respect to input\n",
    "TaylorDiff.derivative.(f,x,Val(1))\n",
    "\n",
    " \n"
   ]
  },
  {
   "cell_type": "code",
   "execution_count": 169,
   "metadata": {},
   "outputs": [
    {
     "data": {
      "text/plain": [
       "2×10 Matrix{Float32}:\n",
       " 0.753373  0.928309  0.0260389  0.141545  …  0.117271  0.881823  0.886729\n",
       " 0.551721  0.907624  0.77566    0.676511     0.207066  0.600407  0.225683"
      ]
     },
     "metadata": {},
     "output_type": "display_data"
    }
   ],
   "source": [
    "rand(Float32, 2, 10)"
   ]
  },
  {
   "cell_type": "code",
   "execution_count": 187,
   "metadata": {},
   "outputs": [
    {
     "data": {
      "text/plain": [
       "2×10 Matrix{Matrix{Float64}}:\n",
       " [9.83895;;]  [16.5869;;]  [5.64471;;]  …  [5.348;;]    [22.5493;;]\n",
       " [5.25608;;]  [6.22501;;]  [6.94439;;]     [9.01024;;]  [4.98047;;]"
      ]
     },
     "metadata": {},
     "output_type": "display_data"
    }
   ],
   "source": [
    "input = 1\n",
    "hidden = 10\n",
    "W₁, W₂, b₁, b₂ = rand(hidden, input), rand(1, hidden), rand(hidden), rand(1)\n",
    "σ = exp\n",
    "mlp(x) = (W₂ * σ.(W₁ * x + b₁) + b₂)\n",
    "TaylorDiff.derivative.(mlp,x,Val(1))"
   ]
  }
 ],
 "metadata": {
  "kernelspec": {
   "display_name": "Julia 1.11.2",
   "language": "julia",
   "name": "julia-1.11"
  },
  "language_info": {
   "file_extension": ".jl",
   "mimetype": "application/julia",
   "name": "julia",
   "version": "1.11.2"
  }
 },
 "nbformat": 4,
 "nbformat_minor": 2
}
