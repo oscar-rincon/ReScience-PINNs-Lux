{
 "cells": [
  {
   "cell_type": "code",
   "execution_count": 9,
   "metadata": {},
   "outputs": [
    {
     "data": {
      "text/plain": [
       "0.0:0.010101010101010102:1.0"
      ]
     },
     "metadata": {},
     "output_type": "display_data"
    }
   ],
   "source": [
    "using Symbolics\n",
    "using Plots\n",
    "\n",
    "# Define a symbolic variable\n",
    "@variables x\n",
    "\n",
    "# Define the sine function\n",
    "f = sin.(x)\n",
    "\n",
    "# Define the differential operator\n",
    "D = Differential(x)\n",
    "\n",
    "# Compute the derivative of the sine function\n",
    "df = D(f)\n",
    "\n",
    "\n",
    "# Generate values uniformly between 0 and 1\n",
    "x_values = range(0, stop=1, length=100)\n",
    "\n",
    " "
   ]
  }
 ],
 "metadata": {
  "kernelspec": {
   "display_name": "Julia 1.11.2",
   "language": "julia",
   "name": "julia-1.11"
  },
  "language_info": {
   "file_extension": ".jl",
   "mimetype": "application/julia",
   "name": "julia",
   "version": "1.11.2"
  }
 },
 "nbformat": 4,
 "nbformat_minor": 2
}
