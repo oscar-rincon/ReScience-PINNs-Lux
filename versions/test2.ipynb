{
 "cells": [
  {
   "cell_type": "code",
   "execution_count": 5,
   "metadata": {},
   "outputs": [
    {
     "data": {
      "text/plain": [
       "MersenneTwister(1)"
      ]
     },
     "metadata": {},
     "output_type": "display_data"
    }
   ],
   "source": [
    "using Lux, Random, ComponentArrays, Zygote\n",
    "\n",
    "rng = MersenneTwister()\n",
    "Random.seed!(rng, 1)"
   ]
  },
  {
   "cell_type": "code",
   "execution_count": 12,
   "metadata": {},
   "outputs": [
    {
     "data": {
      "text/plain": [
       "Chain(\n",
       "    layer_1 = Dense(1 => 30, tanh),     \u001b[90m# 60 parameters\u001b[39m\n",
       "    layer_2 = Dense(30 => 30, tanh),    \u001b[90m# 930 parameters\u001b[39m\n",
       "    layer_3 = Dense(30 => 1),           \u001b[90m# 31 parameters\u001b[39m\n",
       ") \u001b[90m        # Total: \u001b[39m1_021 parameters,\n",
       "\u001b[90m          #        plus \u001b[39m0 states."
      ]
     },
     "metadata": {},
     "output_type": "display_data"
    }
   ],
   "source": [
    "model = Chain(Dense(1 => 30, tanh), Dense(30 => 30, tanh), Dense(30 => 1))"
   ]
  },
  {
   "cell_type": "code",
   "execution_count": 21,
   "metadata": {},
   "outputs": [
    {
     "data": {
      "text/plain": [
       "1×100 Matrix{Float32}:\n",
       " 0.0  0.020202  0.040404  0.0606061  …  1.93939  1.9596  1.9798  2.0"
      ]
     },
     "metadata": {},
     "output_type": "display_data"
    }
   ],
   "source": [
    "x = collect(range(0.0f0, 2.0f0; length=100))\n",
    "x = reshape(x, 1, :)"
   ]
  },
  {
   "cell_type": "code",
   "execution_count": 22,
   "metadata": {},
   "outputs": [
    {
     "data": {
      "text/plain": [
       "\u001b[0mComponentVector{Float32}(layer_1 = (weight = Float32[-2.548353; -0.2584312; … ; 1.049121; 1.1981971;;], bias = Float32[-0.98413014, 0.1107595, -0.43724608, -0.747602, 0.04656005, -0.1023798, 0.24989414, -0.21167207, 0.57015574, 0.10547352  …  0.3781041, -0.24086356, 0.36916924, 0.15436232, 0.53579247, -0.4364437, -0.4681617, 0.78194654, 0.4192816, -0.73741734]), layer_2 = (weight = Float32[0.45577064 -0.4138431 … 0.3550528 0.3986184; 0.41551992 -0.37645566 … -0.23121615 -0.22345409; … ; -0.4557241 0.005538673 … -0.056550886 0.1584795; -0.06876455 0.095540114 … 0.47205642 -0.35473016], bias = Float32[-0.1083701, 0.00013276369, -0.1479145, -0.17733006, 0.11398405, 0.17401469, 0.08692074, 0.13674991, -0.048298016, -0.12791151  …  -0.116797745, -0.07036441, -0.07230848, 0.031046897, 0.06427332, 0.10598793, 0.046473514, -0.0014167845, 0.035673626, -0.16480035]), layer_3 = (weight = Float32[-0.16716596 0.2758892 … -0.25595072 0.21157686], bias = Float32[-0.14274712]))"
      ]
     },
     "metadata": {},
     "output_type": "display_data"
    }
   ],
   "source": [
    "# Initialize model parameters\n",
    "ps, st = Lux.setup(Xoshiro(0), model)\n",
    "ps = ps |> ComponentArray"
   ]
  },
  {
   "cell_type": "code",
   "execution_count": 28,
   "metadata": {},
   "outputs": [
    {
     "data": {
      "text/plain": [
       "1×100 Matrix{Float32}:\n",
       " 0.651718  0.625274  0.597756  0.569194  …  -0.366214  -0.370501  -0.374752"
      ]
     },
     "metadata": {},
     "output_type": "display_data"
    }
   ],
   "source": [
    "u"
   ]
  },
  {
   "cell_type": "code",
   "execution_count": 31,
   "metadata": {},
   "outputs": [
    {
     "data": {
      "text/plain": [
       "1×100 Matrix{Float32}:\n",
       " -1.28169  -1.33587  -1.38817  -1.43928  …  -0.213092  -0.211312  -0.209531"
      ]
     },
     "metadata": {},
     "output_type": "display_data"
    }
   ],
   "source": [
    "smodel = StatefulLuxLayer{true}(model, ps, st)\n",
    "u = smodel(x)\n",
    "Zygote.gradient(sum ∘ smodel, x)[1]"
   ]
  },
  {
   "cell_type": "code",
   "execution_count": null,
   "metadata": {},
   "outputs": [],
   "source": []
  }
 ],
 "metadata": {
  "kernelspec": {
   "display_name": "Julia 1.11.2",
   "language": "julia",
   "name": "julia-1.11"
  },
  "language_info": {
   "file_extension": ".jl",
   "mimetype": "application/julia",
   "name": "julia",
   "version": "1.11.2"
  }
 },
 "nbformat": 4,
 "nbformat_minor": 2
}
